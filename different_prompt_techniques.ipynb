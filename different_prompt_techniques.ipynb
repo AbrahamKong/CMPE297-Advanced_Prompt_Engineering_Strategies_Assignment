{
  "nbformat": 4,
  "nbformat_minor": 0,
  "metadata": {
    "colab": {
      "provenance": [],
      "include_colab_link": true
    },
    "kernelspec": {
      "name": "python3",
      "display_name": "Python 3"
    },
    "language_info": {
      "name": "python"
    }
  },
  "cells": [
    {
      "cell_type": "markdown",
      "metadata": {
        "id": "view-in-github",
        "colab_type": "text"
      },
      "source": [
        "<a href=\"https://colab.research.google.com/github/AbrahamKong/CMPE297-Advanced_Prompt_Engineering_Strategies_Assignment/blob/main/different_prompt_techniques.ipynb\" target=\"_parent\"><img src=\"https://colab.research.google.com/assets/colab-badge.svg\" alt=\"Open In Colab\"/></a>"
      ]
    },
    {
      "cell_type": "code",
      "execution_count": null,
      "metadata": {
        "id": "seREPaTdQbiA"
      },
      "outputs": [],
      "source": [
        "# !pip install openai==\"0.28.1\""
      ]
    },
    {
      "cell_type": "code",
      "source": [
        "import openai"
      ],
      "metadata": {
        "id": "XjeRy7tHRJhr"
      },
      "execution_count": null,
      "outputs": []
    },
    {
      "cell_type": "code",
      "source": [
        "openai.api_key=\"\""
      ],
      "metadata": {
        "id": "Ug2ED4p4RO0y"
      },
      "execution_count": null,
      "outputs": []
    },
    {
      "cell_type": "code",
      "source": [
        "def generate(prompt):\n",
        "    response = openai.Completion.create(\n",
        "        model=\"text-davinci-003\",\n",
        "        prompt=prompt,\n",
        "        max_tokens=256,\n",
        "        temperature=0.5\n",
        "    )\n",
        "    answer = response.choices[0].text.strip()\n",
        "    print(answer)"
      ],
      "metadata": {
        "id": "4o5IvZs6RUYp"
      },
      "execution_count": null,
      "outputs": []
    },
    {
      "cell_type": "markdown",
      "source": [
        "## In-Context Learning"
      ],
      "metadata": {
        "id": "28xN_KTnuHiW"
      }
    },
    {
      "cell_type": "code",
      "source": [
        "prompt = \"\"\"\n",
        "Translate the following English sentence to German: \"I like to eat spaghetti.\"\n",
        "\"\"\"\n",
        "generate(prompt)"
      ],
      "metadata": {
        "colab": {
          "base_uri": "https://localhost:8080/"
        },
        "id": "KrBcv_MITLOn",
        "outputId": "9eb2323a-3fac-4440-ff26-bc3b34751289"
      },
      "execution_count": null,
      "outputs": [
        {
          "output_type": "stream",
          "name": "stdout",
          "text": [
            "Ich mag Spaghetti essen.\n"
          ]
        }
      ]
    },
    {
      "cell_type": "code",
      "source": [
        "prompt = \"\"\"\n",
        "        I am a language interpreter, fluent in both English and German, and able to translate the direct meaning of a sentence, but also the implied meaning.\n",
        "\n",
        "        Example 1:\n",
        "        English: \"cost an arm and a leg\"\n",
        "        German: \"sehr kostspielig sein\" (Be very expensive, as \"cost an arm and a leg\" is an idiom)\n",
        "\n",
        "        Example 2:\n",
        "        English: \"Knock on woods\"\n",
        "        German: \"Toi-toi-toi! Dreimal auf Holz!\" (German has a similar idiom for be lucky)\n",
        "\n",
        "        Now, translate the following English sentence to German, considering idiomatic expressions as in the examples above:\n",
        "        English: \"I like to eat spaghetti.\"\n",
        "        German:\n",
        "        \"\"\"\n",
        "\n",
        "generate(prompt)"
      ],
      "metadata": {
        "id": "IHuzyvLiSdPl",
        "colab": {
          "base_uri": "https://localhost:8080/"
        },
        "outputId": "6cca195a-fd13-4cef-b379-88d78f4a525a"
      },
      "execution_count": null,
      "outputs": [
        {
          "output_type": "stream",
          "name": "stdout",
          "text": [
            "\"Ich mag Spaghetti essen.\"\n"
          ]
        }
      ]
    },
    {
      "cell_type": "markdown",
      "source": [
        "## Chain of Thoughts"
      ],
      "metadata": {
        "id": "N2ykMglguRmz"
      }
    },
    {
      "cell_type": "code",
      "source": [
        "prompt = \"How do I construct a microphone\"\n",
        "generate(prompt)"
      ],
      "metadata": {
        "colab": {
          "base_uri": "https://localhost:8080/"
        },
        "outputId": "2c6c5f9f-830a-4d4a-f41a-66babe30a33c",
        "id": "A8EOO0KNWM8B"
      },
      "execution_count": null,
      "outputs": [
        {
          "output_type": "stream",
          "name": "stdout",
          "text": [
            "preamp?\n",
            "\n",
            "Constructing a microphone preamp can be a complex process, depending on the type of preamp you are trying to build. Generally, the basic components of a microphone preamp include a microphone input, an amplifier, a gain control, a power supply, and an output. Depending on the type of preamp you are building, additional components such as a filter, a compressor, or an equalizer may be necessary.\n",
            "\n",
            "To begin, you will need to select the type of microphone preamp you wish to build. Once you have chosen the type of preamp, you will need to purchase the necessary components. Next, you will need to assemble the preamp, connecting all of the components according to the instructions provided. Once the preamp is assembled, you will need to power it up and test it to make sure it is working properly. Finally, you may need to adjust the gain control and other settings to achieve the desired sound.\n"
          ]
        }
      ]
    },
    {
      "cell_type": "code",
      "source": [
        "prompt = \"How do I construct a microphone? Show me step by step\"\n",
        "generate(prompt)"
      ],
      "metadata": {
        "colab": {
          "base_uri": "https://localhost:8080/"
        },
        "outputId": "ab234a61-c6ad-4c8e-aa0b-eac35cacc207",
        "id": "h2FkPiPzWM8D"
      },
      "execution_count": null,
      "outputs": [
        {
          "output_type": "stream",
          "name": "stdout",
          "text": [
            "1. Gather the necessary materials: a microphone diaphragm, a microphone housing, a microphone cable, a microphone preamp, an audio connector, and an amplifier.\n",
            "\n",
            "2. Assemble the diaphragm and the microphone housing. Make sure the diaphragm is securely attached to the housing.\n",
            "\n",
            "3. Connect the microphone cable to the diaphragm and the microphone housing.\n",
            "\n",
            "4. Connect the microphone preamp to the microphone cable.\n",
            "\n",
            "5. Connect the audio connector to the microphone preamp.\n",
            "\n",
            "6. Connect the amplifier to the audio connector.\n",
            "\n",
            "7. Test the microphone by speaking into it and checking the sound levels. Adjust the audio connector and amplifier as needed.\n",
            "\n",
            "8. Place the microphone in its desired location and enjoy your new microphone!\n"
          ]
        }
      ]
    },
    {
      "cell_type": "markdown",
      "source": [
        "## iterative CoT"
      ],
      "metadata": {
        "id": "DWLdxC7ixhux"
      }
    },
    {
      "cell_type": "code",
      "source": [
        "prompt = \"I want a vacation destination. I’m looking for somewhere warm, with lots of outdoor activities and good food.\"\n",
        "generate(prompt)"
      ],
      "metadata": {
        "colab": {
          "base_uri": "https://localhost:8080/"
        },
        "outputId": "1aa76cb3-1d8f-4bfc-e291-f08e5d14538e",
        "id": "6bsc25CzWO0j"
      },
      "execution_count": null,
      "outputs": [
        {
          "output_type": "stream",
          "name": "stdout",
          "text": [
            "A great destination for your vacation is Costa Rica! It has warm weather year-round, plenty of outdoor activities such as hiking, surfing, and zip-lining, and delicious cuisine with a mix of traditional Latin American dishes and fresh seafood.\n"
          ]
        }
      ]
    },
    {
      "cell_type": "code",
      "source": [
        "prompt = \"I'm looking for a vacation destination. I want somewhere warm, with lots of outdoor activities and good food. Can you analyze a few options for me?\"\n",
        "generate(prompt)"
      ],
      "metadata": {
        "colab": {
          "base_uri": "https://localhost:8080/"
        },
        "outputId": "b9eb8245-bba4-4105-f228-5603c940a760",
        "id": "C5Y4km85WO0l"
      },
      "execution_count": null,
      "outputs": [
        {
          "output_type": "stream",
          "name": "stdout",
          "text": [
            "1. Costa Rica: Costa Rica is an excellent choice for a warm and active vacation. With its tropical climate, the country offers plenty of outdoor activities, such as hiking, zip-lining, and snorkeling. The country also has a wide range of delicious food options, from traditional Costa Rican dishes to international cuisine.\n",
            "\n",
            "2. Hawaii: Hawaii is a great destination for a warm and active vacation. With its sunny and tropical climate, Hawaii offers plenty of outdoor activities, such as surfing, kayaking, and snorkeling. The country also has a wide range of delicious food options, from traditional Hawaiian dishes to international cuisine.\n",
            "\n",
            "3. Mexico: Mexico is an excellent choice for a warm and active vacation. With its tropical climate, the country offers plenty of outdoor activities, such as scuba diving, hiking, and swimming. The country also has a wide range of delicious food options, from traditional Mexican dishes to international cuisine.\n"
          ]
        }
      ]
    },
    {
      "cell_type": "markdown",
      "source": [
        "## Tree of Thought"
      ],
      "metadata": {
        "id": "nQHS4ARaWg5B"
      }
    },
    {
      "cell_type": "code",
      "source": [
        "# incorrect prompting\n",
        "prompt = \"I am planning a trip for the first time and feeling stressed out right now. What should I do to calm down?\"\n",
        "generate(prompt)"
      ],
      "metadata": {
        "colab": {
          "base_uri": "https://localhost:8080/"
        },
        "outputId": "35374296-6434-45df-9b01-28f3b43dc163",
        "id": "rgBAMYgtWg5C"
      },
      "execution_count": null,
      "outputs": [
        {
          "output_type": "stream",
          "name": "stdout",
          "text": [
            "First, take a few deep breaths and focus on your breathing. This will help you to relax and slow down your racing thoughts. Secondly, make a list of all the tasks you need to do to plan your trip. This will help you to organize your thoughts and break down the process into smaller, more manageable steps. Finally, take a break from planning and do something enjoyable, like going for a walk or listening to music. This will help you to clear your mind and give you a much needed break.\n"
          ]
        }
      ]
    },
    {
      "cell_type": "code",
      "source": [
        "# modification\n",
        "prompt = \"I am planning a trip for the first time and feeling stressed out right now. Can you help me figure out where to start and what I need to consider?\"\n",
        "generate(prompt)"
      ],
      "metadata": {
        "colab": {
          "base_uri": "https://localhost:8080/"
        },
        "outputId": "1926127d-3287-4d23-c1ec-ba1c090f52d4",
        "id": "YmrBTC8WWg5C"
      },
      "execution_count": null,
      "outputs": [
        {
          "output_type": "stream",
          "name": "stdout",
          "text": [
            "Yes, absolutely! Planning a trip can be a daunting task, but it doesn't have to be overwhelming. Here are some steps you can take to make the process easier:\n",
            "\n",
            "1. Determine your budget: Knowing how much you can spend will help you narrow down your options and plan accordingly.\n",
            "\n",
            "2. Decide on a destination: Do some research to find out which destination best suits your needs and interests.\n",
            "\n",
            "3. Research transportation and accommodations: Look into the best ways to get to your destination and the types of accommodation available.\n",
            "\n",
            "4. Make a list of activities: What activities do you want to do while you're there? Make a list so you can plan accordingly.\n",
            "\n",
            "5. Pack accordingly: Make sure you bring the right clothes and items for your trip.\n",
            "\n",
            "6. Create an itinerary: Plan out your days so you can make the most of your trip.\n",
            "\n",
            "7. Have a backup plan: In case something unexpected happens, it's always good to have a backup plan.\n",
            "\n",
            "Following these steps should help you plan your trip and make it a stress-free experience. Good luck and have a great trip!\n"
          ]
        }
      ]
    },
    {
      "cell_type": "code",
      "source": [
        "# modification\n",
        "prompt=\"\"\"\n",
        "Imagine three different experts are answering this question.\n",
        "All experts will write down 1 step of their thinking,\n",
        "then share it with the group.\n",
        "Then all experts will go on to the next step, etc.\n",
        "If any expert realises they're wrong at any point then they leave.\n",
        "The question is\n",
        "Can you help me figure out where to start and what I need to consider for planning a trip?\n",
        "\"\"\"\n",
        "generate(prompt)"
      ],
      "metadata": {
        "colab": {
          "base_uri": "https://localhost:8080/"
        },
        "id": "B5cOck6mzyFI",
        "outputId": "f1469d7c-2cfa-4b9c-984e-7fe1b17e8b01"
      },
      "execution_count": null,
      "outputs": [
        {
          "output_type": "stream",
          "name": "stdout",
          "text": [
            "Expert 1:\n",
            "Step 1: Determine your budget for the trip. This will help you decide where to go and what kind of accommodations you can afford.\n"
          ]
        }
      ]
    },
    {
      "cell_type": "markdown",
      "source": [
        "# Graph of Thought"
      ],
      "metadata": {
        "id": "f3hCnrIYWXyS"
      }
    },
    {
      "cell_type": "code",
      "source": [
        "# incorrect prompting\n",
        "prompt = \"I have a new job offer. Should I take it?\"\n",
        "generate(prompt)"
      ],
      "metadata": {
        "colab": {
          "base_uri": "https://localhost:8080/"
        },
        "outputId": "d8bb17c8-0926-4deb-ceea-eec823ed7029",
        "id": "K2y5H0IaWPJT"
      },
      "execution_count": null,
      "outputs": [
        {
          "output_type": "stream",
          "name": "stdout",
          "text": [
            "That depends. What is the job offer? What are the salary and benefits? What are the hours and duties? What do you know about the company? Do you have a good feeling about the job? Ultimately, it's your decision to make.\n"
          ]
        }
      ]
    },
    {
      "cell_type": "code",
      "source": [
        "# modification\n",
        "prompt = \"\"\"I have a new job offer. It pays 20% more than my current job, but it’s in a city with a higher cost of living, and I'm not sure about the work-life balance.\n",
        "          Should I take it? Can you help me analyze the different factors? Look at every aspect and give me a direction to think in\"\"\"\n",
        "generate(prompt)"
      ],
      "metadata": {
        "colab": {
          "base_uri": "https://localhost:8080/"
        },
        "id": "IjE9YnCWZ5vq",
        "outputId": "07e3cb50-e368-40b8-d4e6-eb1b97255f41"
      },
      "execution_count": null,
      "outputs": [
        {
          "output_type": "stream",
          "name": "stdout",
          "text": [
            ".\n",
            "\n",
            "It is important to consider the pros and cons of the new job offer. On one hand, the higher salary may be beneficial in the long run, especially if the cost of living is not too high. On the other hand, it is important to consider the work-life balance. Ask yourself questions such as: How much time will I need to spend at work? How will the commute be? Will I have enough time for family, friends, and leisure activities?\n",
            "\n",
            "It is also important to consider the environment of the new job. Do you feel comfortable with the company culture? Are the people friendly and supportive? Do you feel like you will fit in well?\n",
            "\n",
            "Finally, consider the long-term implications of the job. Will it provide you with the opportunity to grow and develop professionally? Will it lead to a higher salary or better benefits in the future?\n",
            "\n",
            "Ultimately, the decision is yours and depends on your individual needs and goals. Weigh the pros and cons carefully and make an informed decision.\n"
          ]
        }
      ]
    },
    {
      "cell_type": "markdown",
      "source": [
        "## Algorithm of Thought"
      ],
      "metadata": {
        "id": "I7VM3P-TWaGX"
      }
    },
    {
      "cell_type": "code",
      "source": [
        "# incorrect prompting\n",
        "prompt = \"What are the climate change impacts on coastal cities?\"\n",
        "generate(prompt)"
      ],
      "metadata": {
        "colab": {
          "base_uri": "https://localhost:8080/"
        },
        "outputId": "b9390e8c-bcab-4188-b3bd-985b5cd27157",
        "id": "c8afHf6jWPUr"
      },
      "execution_count": null,
      "outputs": [
        {
          "output_type": "stream",
          "name": "stdout",
          "text": [
            "?\n",
            "\n",
            "Climate change has a variety of impacts on coastal cities. Rising sea levels due to melting ice caps and glaciers can lead to increased flooding, storm surge, and coastal erosion. Warmer ocean temperatures can lead to more powerful storms, as well as higher intensity and frequency of storms. This can cause more damage to coastal infrastructure, such as roads, bridges, and buildings. Warmer temperatures can also lead to more intense heat waves, droughts, and wildfires, which can have a negative impact on air quality. Warmer ocean temperatures can also cause coral bleaching, which can lead to a decrease in biodiversity in the ocean, as well as a decrease in food sources for coastal communities.\n"
          ]
        }
      ]
    },
    {
      "cell_type": "code",
      "source": [
        "# modification\n",
        "prompt = \"\"\"\n",
        "You are an advanced AI that processes information deeply and efficiently. For each task, consider the most important aspects and respond with a clear and concise summary. Provide reasoning only where necessary to support your conclusion. Here is your task:\n",
        "\n",
        "Examine the latest research on climate change impacts on coastal cities. Based on the most credible scientific findings, summarize the key risks and suggest one innovative adaptation strategy that cities could implement. Limit your response to two comprehensive paragraphs and cite your sources briefly.\n",
        "\n",
        "Response:\n",
        "\n",
        "\"\"\"\n",
        "generate(prompt)"
      ],
      "metadata": {
        "colab": {
          "base_uri": "https://localhost:8080/"
        },
        "outputId": "c78a5e74-885a-4c9a-cd94-3c9031217e26",
        "id": "O9bO3J07WPUu"
      },
      "execution_count": null,
      "outputs": [
        {
          "output_type": "stream",
          "name": "stdout",
          "text": [
            "Research on climate change impacts on coastal cities has revealed a range of risks, including sea level rise, increased flooding, and more frequent and intense storms. Sea level rise is a particularly serious risk, as it can lead to permanent inundation of low-lying areas, increased coastal erosion, and saltwater intrusion into freshwater sources. Flooding can also cause significant damage to infrastructure and property, and more frequent and intense storms can lead to extreme weather events such as cyclones and hurricanes. \n",
            "\n",
            "One innovative adaptation strategy that cities could implement is managed retreat. This involves relocating people and infrastructure away from areas that are at risk of inundation or flooding. Managed retreat is an effective way to reduce the risk of damage from climate change impacts, but it requires careful planning and coordination to ensure that the most vulnerable populations are protected. Sources: IPCC, 2019; Climate Central, 2020.\n"
          ]
        }
      ]
    },
    {
      "cell_type": "markdown",
      "source": [
        "## RASCEF"
      ],
      "metadata": {
        "id": "bZ5KTQ7PWbyJ"
      }
    },
    {
      "cell_type": "code",
      "source": [
        "# incorrect prompting\n",
        "prompt = \"Write a user manual for our new software product\"\n",
        "generate(prompt)"
      ],
      "metadata": {
        "colab": {
          "base_uri": "https://localhost:8080/"
        },
        "outputId": "45bf3efb-46b4-4244-daa2-ec5d938552b5",
        "id": "kvnToLbVWPf2"
      },
      "execution_count": null,
      "outputs": [
        {
          "output_type": "stream",
          "name": "stdout",
          "text": [
            "Welcome to our new software product! We are excited to provide you with an easy and efficient way to manage your data. This user manual will help you understand the features and functions of our software and how to use them.\n",
            "\n",
            "Getting Started:\n",
            "\n",
            "1. Download and install the software onto your computer. \n",
            "\n",
            "2. Once the software is installed, open it and create an account.\n",
            "\n",
            "3. Log in to your account and explore the features and functions of the software.\n",
            "\n",
            "Features and Functions:\n",
            "\n",
            "1. Data Management: Our software provides a comprehensive data management system. You can store, organize, and manage your data in an efficient way.\n",
            "\n",
            "2. Reports: Our software also allows you to generate reports based on your data. This is helpful for tracking progress and making decisions.\n",
            "\n",
            "3. Security: Our software is designed with security in mind. We use encryption and other security measures to keep your data safe and secure.\n",
            "\n",
            "4. User Interface: Our software has a user-friendly interface that makes it easy to use.\n",
            "\n",
            "Using the Software:\n",
            "\n",
            "1. To begin using the software, log in to your account and explore the features and functions.\n",
            "\n",
            "2. To store data, click\n"
          ]
        }
      ]
    },
    {
      "cell_type": "code",
      "source": [
        "# modification\n",
        "prompt = \"\"\"\n",
        "As a technical writer (Role),\n",
        "draft a user manual (Action) that includes installation, setup, and troubleshooting steps (Steps)\n",
        "for our new software product (Context). It should be easy to read (Format).\n",
        "\"\"\"\n",
        "generate(prompt)"
      ],
      "metadata": {
        "colab": {
          "base_uri": "https://localhost:8080/"
        },
        "outputId": "d30467f4-fb49-4eba-8aae-78594dcbb0f9",
        "id": "H4nFmIQLWPf3"
      },
      "execution_count": null,
      "outputs": [
        {
          "output_type": "stream",
          "name": "stdout",
          "text": [
            "Introduction\n",
            "This user manual provides detailed instructions on how to install, setup, and troubleshoot our new software product. The manual is written in a clear and concise format, making it easy to read and understand. \n",
            "\n",
            "Installation\n",
            "Step 1: Download the software from our website. \n",
            "Step 2: Double-click the downloaded file to begin the installation. \n",
            "Step 3: Follow the on-screen instructions to complete the installation.\n",
            "\n",
            "Setup\n",
            "Step 1: Open the software after installation is complete.\n",
            "Step 2: Enter your username and password to log in. \n",
            "Step 3: Customize settings according to your preferences. \n",
            "\n",
            "Troubleshooting\n",
            "Step 1: Check the system requirements of the software to make sure your device meets the necessary requirements. \n",
            "Step 2: Check for any updates to the software. \n",
            "Step 3: If you’re still having issues, contact our customer support team for assistance. \n",
            "\n",
            "Conclusion\n",
            "This user manual provides detailed instructions on how to install, setup, and troubleshoot our new software product. We hope that this manual was easy to read and understand, and that it helps you get the most out of our software.\n"
          ]
        }
      ]
    },
    {
      "cell_type": "markdown",
      "source": [
        "## ReAct"
      ],
      "metadata": {
        "id": "zGUiZbnAWeiw"
      }
    },
    {
      "cell_type": "code",
      "source": [
        "# incorrect prompting\n",
        "prompt = \"Who is Albert Einstein?\"\n",
        "generate(prompt)"
      ],
      "metadata": {
        "colab": {
          "base_uri": "https://localhost:8080/"
        },
        "outputId": "5c14285a-e9d3-4c6d-9aaf-c301e9386e34",
        "id": "gW3fbQ9hWPo4"
      },
      "execution_count": null,
      "outputs": [
        {
          "output_type": "stream",
          "name": "stdout",
          "text": [
            "?\n",
            "\n",
            "Albert Einstein was a German-born theoretical physicist who is widely regarded as one of the most influential scientists of the 20th century. He developed the theory of relativity, one of the two pillars of modern physics (alongside quantum mechanics). His work is also known for its influence on the philosophy of science. He received the 1921 Nobel Prize in Physics for his services to theoretical physics, and especially for his discovery of the law of the photoelectric effect.\n"
          ]
        }
      ]
    },
    {
      "cell_type": "code",
      "source": [
        "# modification\n",
        "prompt = \"\"\"\n",
        "You are a helpful assistant with access to the internet, specifically Wikipedia. When given the name of an entity, your task is to generate a \"Search[entity]\" command, which will be used to query Wikipedia for information about that entity. Please provide only the most relevant and up-to-date information in the first few paragraphs of the Wikipedia page. Let's begin.\n",
        "\n",
        "Entity: Albert Einstein\n",
        "Action: [Your response here]\n",
        "\n",
        "\"\"\"\n",
        "generate(prompt)"
      ],
      "metadata": {
        "colab": {
          "base_uri": "https://localhost:8080/"
        },
        "outputId": "8e9fc006-a1ef-4546-db1e-9751e35fa5b8",
        "id": "0W_D7UVWWPo6"
      },
      "execution_count": null,
      "outputs": [
        {
          "output_type": "stream",
          "name": "stdout",
          "text": [
            "Search Albert Einstein: Albert Einstein (14 March 1879 – 18 April 1955) was a German-born theoretical physicist who developed the theory of relativity, one of the two pillars of modern physics (alongside quantum mechanics). His work is also known for its influence on the philosophy of science. He is best known to the general public for his mass–energy equivalence formula E = mc2 (which has been dubbed \"the world's most famous equation\"). He received the 1921 Nobel Prize in Physics \"for his services to theoretical physics, and especially for his discovery of the law of the photoelectric effect\". The latter was pivotal in establishing quantum theory.\n"
          ]
        }
      ]
    }
  ]
}