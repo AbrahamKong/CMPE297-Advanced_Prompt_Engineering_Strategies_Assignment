{
  "cells": [
    {
      "cell_type": "markdown",
      "metadata": {
        "id": "view-in-github",
        "colab_type": "text"
      },
      "source": [
        "<a href=\"https://colab.research.google.com/github/AbrahamKong/CMPE297-Advanced_Prompt_Engineering_Strategies_Assignment/blob/main/diverse_fields_prompts.ipynb\" target=\"_parent\"><img src=\"https://colab.research.google.com/assets/colab-badge.svg\" alt=\"Open In Colab\"/></a>"
      ]
    },
    {
      "cell_type": "code",
      "execution_count": null,
      "id": "7ca7cc5a",
      "metadata": {
        "id": "7ca7cc5a"
      },
      "outputs": [],
      "source": [
        "# !pip install openai==\"0.28.1\""
      ]
    },
    {
      "cell_type": "code",
      "execution_count": 2,
      "id": "e1e0ed4a",
      "metadata": {
        "id": "e1e0ed4a"
      },
      "outputs": [],
      "source": [
        "import torch\n",
        "import openai"
      ]
    },
    {
      "cell_type": "code",
      "execution_count": 3,
      "id": "2b90d780",
      "metadata": {
        "id": "2b90d780"
      },
      "outputs": [],
      "source": [
        "openai.api_key=\"\""
      ]
    },
    {
      "cell_type": "code",
      "execution_count": 4,
      "id": "916c2e50",
      "metadata": {
        "id": "916c2e50"
      },
      "outputs": [],
      "source": [
        "def generate(prompt):\n",
        "    response = openai.Completion.create(\n",
        "        model=\"text-davinci-003\",\n",
        "        prompt=prompt,\n",
        "        max_tokens=256,\n",
        "        temperature=0.5\n",
        "    )\n",
        "    answer = response.choices[0].text.strip()\n",
        "    print(answer)"
      ]
    },
    {
      "cell_type": "markdown",
      "id": "35580a46",
      "metadata": {
        "id": "35580a46"
      },
      "source": [
        "## Human Resources (HR)"
      ]
    },
    {
      "cell_type": "markdown",
      "id": "26e4352e",
      "metadata": {
        "id": "26e4352e"
      },
      "source": [
        "### Prompt: Create an onboarding checklist for a new software developer."
      ]
    },
    {
      "cell_type": "code",
      "execution_count": 5,
      "id": "aba3c571",
      "metadata": {
        "colab": {
          "base_uri": "https://localhost:8080/"
        },
        "id": "aba3c571",
        "outputId": "3cbf3dcd-91d5-4678-f9ad-e78ece356861"
      },
      "outputs": [
        {
          "output_type": "stream",
          "name": "stdout",
          "text": [
            "1. Introduce the new software developer to the team and provide an overview of the team’s goals and objectives.\n",
            "2. Provide the new software developer with a copy of the company’s software development process and policies.\n",
            "3. Set up the new software developer’s computer with the necessary software and tools.\n",
            "4. Provide the new software developer with access to the company’s source code repository.\n",
            "5. Provide the new software developer with a tour of the office and introduce them to the other software developers.\n",
            "6. Provide the new software developer with any necessary training materials.\n",
            "7. Schedule one-on-one meetings with the team lead and other software developers to discuss the project and any questions.\n",
            "8. Make sure the new software developer is familiar with the company’s bug tracking system.\n",
            "9. Set up a schedule for code reviews and pair programming sessions.\n",
            "10. Set up a meeting to discuss the new software developer’s career goals and objectives.\n"
          ]
        }
      ],
      "source": [
        "prompt = \"Create an onboarding checklist for a new software developer.\"\n",
        "generate(prompt)"
      ]
    },
    {
      "cell_type": "markdown",
      "id": "1513af64",
      "metadata": {
        "id": "1513af64"
      },
      "source": [
        "### Prompt: Draft an email announcing a company-wide health initiative."
      ]
    },
    {
      "cell_type": "code",
      "execution_count": 6,
      "id": "9e86394a",
      "metadata": {
        "id": "9e86394a",
        "colab": {
          "base_uri": "https://localhost:8080/"
        },
        "outputId": "06839212-ddc7-4519-bf10-fc1c14e232da"
      },
      "outputs": [
        {
          "output_type": "stream",
          "name": "stdout",
          "text": [
            "Subject: Get Healthy with Our New Company-Wide Health Initiative\n",
            "\n",
            "Hello everyone,\n",
            "\n",
            "I am excited to announce a new company-wide health initiative! We want to encourage all of our employees to take steps towards improving their health and well-being.\n",
            "\n",
            "This initiative will include:\n",
            "\n",
            "• A weekly wellness newsletter with tips and advice on healthy eating, exercise, and stress management.\n",
            "\n",
            "• Discounted gym memberships and fitness classes.\n",
            "\n",
            "• A health and wellness fair with vendors offering healthy snacks, nutrition advice, and more.\n",
            "\n",
            "• On-site health screenings and educational seminars.\n",
            "\n",
            "• A rewards program for employees who reach their health and wellness goals.\n",
            "\n",
            "We are committed to supporting our employees in their efforts to improve their health and well-being. We believe that healthier employees are happier, more productive, and better equipped to meet the challenges of our work.\n",
            "\n",
            "Please take a moment to explore the resources available to you and start taking steps towards a healthier you!\n",
            "\n",
            "Sincerely,\n",
            "\n",
            "[Your Name]\n"
          ]
        }
      ],
      "source": [
        "prompt = \"Draft an email announcing a company-wide health initiative.\"\n",
        "generate(prompt)"
      ]
    },
    {
      "cell_type": "markdown",
      "id": "02f5c558",
      "metadata": {
        "id": "02f5c558"
      },
      "source": [
        "### Prompt: Generate interview questions for a customer service position."
      ]
    },
    {
      "cell_type": "code",
      "execution_count": 7,
      "id": "19fd026d",
      "metadata": {
        "id": "19fd026d",
        "colab": {
          "base_uri": "https://localhost:8080/"
        },
        "outputId": "eefd4eac-8446-4e14-f4d4-d980354d2039"
      },
      "outputs": [
        {
          "output_type": "stream",
          "name": "stdout",
          "text": [
            "1. How would you handle a customer who is angry or frustrated?\n",
            "2. What experience do you have providing excellent customer service?\n",
            "3. How do you handle difficult customer situations?\n",
            "4. Describe a time when you had to go above and beyond to satisfy a customer.\n",
            "5. How do you stay organized and manage multiple tasks?\n",
            "6. How do you stay motivated in a customer service role?\n",
            "7. How do you handle a customer who is asking for something that is outside of your job scope?\n",
            "8. What do you consider to be the most important qualities of a successful customer service representative?\n",
            "9. What strategies do you use to build relationships with customers?\n",
            "10. Describe a time when you had to handle a difficult customer complaint.\n"
          ]
        }
      ],
      "source": [
        "prompt = \"Generate interview questions for a customer service position.\"\n",
        "generate(prompt)"
      ]
    },
    {
      "cell_type": "markdown",
      "id": "45fd264c",
      "metadata": {
        "id": "45fd264c"
      },
      "source": [
        "## Education/Teaching"
      ]
    },
    {
      "cell_type": "markdown",
      "id": "2e6af4b0",
      "metadata": {
        "id": "2e6af4b0"
      },
      "source": [
        "### Prompt: Design an interactive activity for a virtual geography lesson."
      ]
    },
    {
      "cell_type": "code",
      "execution_count": 8,
      "id": "b8ae60d1",
      "metadata": {
        "id": "b8ae60d1",
        "colab": {
          "base_uri": "https://localhost:8080/"
        },
        "outputId": "8098dab7-1f71-4fa8-9e4b-431d4a12510a"
      },
      "outputs": [
        {
          "output_type": "stream",
          "name": "stdout",
          "text": [
            "The interactive activity for a virtual geography lesson could be a virtual scavenger hunt. The teacher would assign each student a different location to research and explore. The students would then search for facts, photos, and videos related to their assigned location. They would then compile their findings and present them to the class. This would allow students to learn about different places in the world while also engaging in an interactive activity.\n"
          ]
        }
      ],
      "source": [
        "prompt = \"Design an interactive activity for a virtual geography lesson.\"\n",
        "generate(prompt)"
      ]
    },
    {
      "cell_type": "markdown",
      "id": "075d4bed",
      "metadata": {
        "id": "075d4bed"
      },
      "source": [
        "### Prompt: Develop feedback comments for student essays on 'To Kill a Mockingbird'."
      ]
    },
    {
      "cell_type": "code",
      "execution_count": 9,
      "id": "9bf94052",
      "metadata": {
        "id": "9bf94052",
        "colab": {
          "base_uri": "https://localhost:8080/"
        },
        "outputId": "a9adcd6c-1971-445b-fb53-61089762eafa"
      },
      "outputs": [
        {
          "output_type": "stream",
          "name": "stdout",
          "text": [
            "Essay 1:\n",
            "\n",
            "Good job! You have provided a thoughtful analysis of the themes of justice and prejudice in To Kill a Mockingbird. You have effectively used evidence from the text to support your points and have developed a clear argument. However, you could have taken your analysis further by exploring how the themes of justice and prejudice are connected to the novel's setting and characters. Keep up the great work!\n"
          ]
        }
      ],
      "source": [
        "prompt = \"Develop feedback comments for student essays on 'To Kill a Mockingbird'.\"\n",
        "generate(prompt)"
      ]
    },
    {
      "cell_type": "markdown",
      "id": "e43059db",
      "metadata": {
        "id": "e43059db"
      },
      "source": [
        "### Prompt: Construct a grading rubric for a science fair project."
      ]
    },
    {
      "cell_type": "code",
      "execution_count": 10,
      "id": "9f217790",
      "metadata": {
        "id": "9f217790",
        "colab": {
          "base_uri": "https://localhost:8080/"
        },
        "outputId": "8c05f551-a10c-48e5-81a9-a96235968e27"
      },
      "outputs": [
        {
          "output_type": "stream",
          "name": "stdout",
          "text": [
            "1. Scientific Method (20 points)\n",
            "\n",
            "-Project clearly follows scientific method (10 points)\n",
            "-Project includes a hypothesis and is testable (5 points)\n",
            "-Project includes an experiment with results (5 points)\n",
            "\n",
            "2. Presentation (20 points)\n",
            "\n",
            "-Project is presented in a professional manner (10 points)\n",
            "-Project is organized and easy to follow (5 points)\n",
            "-Project includes visuals (5 points)\n",
            "\n",
            "3. Knowledge of Subject Matter (20 points)\n",
            "\n",
            "-Project demonstrates understanding of scientific concepts (10 points)\n",
            "-Project includes accurate data and analysis (5 points)\n",
            "-Project includes appropriate references (5 points)\n",
            "\n",
            "4. Creativity (20 points)\n",
            "\n",
            "-Project shows originality and ingenuity (10 points)\n",
            "-Project includes creative solutions to problems (5 points)\n",
            "-Project includes an innovative approach to the topic (5 points)\n",
            "\n",
            "5. Quality of Work (20 points)\n",
            "\n",
            "-Project is complete and accurate (10 points)\n",
            "-Project includes evidence of effort (5 points)\n",
            "-Project includes evidence of critical thinking (5 points)\n"
          ]
        }
      ],
      "source": [
        "prompt = \"Construct a grading rubric for a science fair project.\"\n",
        "generate(prompt)"
      ]
    },
    {
      "cell_type": "markdown",
      "id": "27b372e7",
      "metadata": {
        "id": "27b372e7"
      },
      "source": [
        "## Finance"
      ]
    },
    {
      "cell_type": "markdown",
      "id": "67cee3fd",
      "metadata": {
        "id": "67cee3fd"
      },
      "source": [
        "### Prompt: Explain the implications of a merger between two public companies."
      ]
    },
    {
      "cell_type": "code",
      "execution_count": 11,
      "id": "62e339ee",
      "metadata": {
        "id": "62e339ee",
        "colab": {
          "base_uri": "https://localhost:8080/"
        },
        "outputId": "acc355b4-ca77-4581-e0a7-2f53d3432fa6"
      },
      "outputs": [
        {
          "output_type": "stream",
          "name": "stdout",
          "text": [
            "A merger between two public companies can have a variety of implications, both positive and negative. On the positive side, a merger can create a larger and more efficient company, which can lead to cost savings, increased market share, and increased profitability. It can also provide the merged company with access to new markets, technology, and resources. Additionally, a merger can lead to increased competition in the industry, which can benefit consumers by providing them with more options and lower prices.\n",
            "\n",
            "On the negative side, a merger can lead to job losses and disruption in the industry, as the merged company may have to restructure and consolidate operations. Additionally, the merged company may be able to exercise increased market power, leading to higher prices and reduced competition. Furthermore, the merging companies may have to make significant changes to their corporate governance structures, which can create additional risks and costs. Finally, the merger may lead to antitrust concerns, as the merged company may become too large and powerful in the industry.\n"
          ]
        }
      ],
      "source": [
        "prompt = \"Explain the implications of a merger between two public companies.\"\n",
        "generate(prompt)"
      ]
    },
    {
      "cell_type": "markdown",
      "id": "7d5be03c",
      "metadata": {
        "id": "7d5be03c"
      },
      "source": [
        "### Prompt: Create a budget template for a small business startup."
      ]
    },
    {
      "cell_type": "code",
      "execution_count": 12,
      "id": "0cd34505",
      "metadata": {
        "id": "0cd34505",
        "colab": {
          "base_uri": "https://localhost:8080/"
        },
        "outputId": "31f84dd3-1a7e-4833-bb72-e6d750d5b690"
      },
      "outputs": [
        {
          "output_type": "stream",
          "name": "stdout",
          "text": [
            "INCOME\n",
            "\n",
            "Investment Capital: ____________________\n",
            "\n",
            "Loan/Credit: __________________________\n",
            "\n",
            "Revenue: _____________________________\n",
            "\n",
            "EXPENSES\n",
            "\n",
            "Rent/Lease: __________________________\n",
            "\n",
            "Equipment: __________________________\n",
            "\n",
            "Marketing: ___________________________\n",
            "\n",
            "Legal Fees: __________________________\n",
            "\n",
            "Accounting: _________________________\n",
            "\n",
            "Insurance: __________________________\n",
            "\n",
            "Salaries: ____________________________\n",
            "\n",
            "Utilities: ____________________________\n",
            "\n",
            "Travel: ______________________________\n",
            "\n",
            "Training: ____________________________\n",
            "\n",
            "Office Supplies: ______________________\n",
            "\n",
            "Miscellaneous: ______________________\n",
            "\n",
            "Total Expenses: _____________________\n",
            "\n",
            "NET INCOME: _______________________\n"
          ]
        }
      ],
      "source": [
        "prompt = \"Create a budget template for a small business startup.\"\n",
        "generate(prompt)"
      ]
    },
    {
      "cell_type": "markdown",
      "id": "4c6d84a5",
      "metadata": {
        "id": "4c6d84a5"
      },
      "source": [
        "### Prompt: Outline the steps to conduct a financial audit."
      ]
    },
    {
      "cell_type": "code",
      "execution_count": 13,
      "id": "2cdca754",
      "metadata": {
        "id": "2cdca754",
        "colab": {
          "base_uri": "https://localhost:8080/"
        },
        "outputId": "1f9cef07-be96-495a-ef9b-74b020e2a932"
      },
      "outputs": [
        {
          "output_type": "stream",
          "name": "stdout",
          "text": [
            "1. Gather and review client information: This includes gathering financial statements, contracts, and other relevant documents.\n",
            "\n",
            "2. Plan the audit: Determine the scope of the audit, review the client’s accounting system, and develop the audit program.\n",
            "\n",
            "3. Test internal controls: Ensure the client’s internal controls are adequate and functioning properly.\n",
            "\n",
            "4. Test the accuracy of financial statements: Perform audit procedures to test the accuracy of the financial statements.\n",
            "\n",
            "5. Issue the audit report: Prepare the final audit report and communicate the results to the client.\n",
            "\n",
            "6. Follow up: Follow up with the client to ensure any weaknesses identified during the audit have been addressed.\n"
          ]
        }
      ],
      "source": [
        "prompt = \"Outline the steps to conduct a financial audit.\"\n",
        "generate(prompt)"
      ]
    },
    {
      "cell_type": "markdown",
      "id": "3297ac63",
      "metadata": {
        "id": "3297ac63"
      },
      "source": [
        "## Healthcare"
      ]
    },
    {
      "cell_type": "markdown",
      "id": "13968f00",
      "metadata": {
        "id": "13968f00"
      },
      "source": [
        "### Prompt: Summarize the latest findings on the benefits of a Mediterranean diet."
      ]
    },
    {
      "cell_type": "code",
      "execution_count": 14,
      "id": "20556998",
      "metadata": {
        "id": "20556998",
        "colab": {
          "base_uri": "https://localhost:8080/"
        },
        "outputId": "16b162e8-140e-465a-bc73-c1d6b7b7d38e"
      },
      "outputs": [
        {
          "output_type": "stream",
          "name": "stdout",
          "text": [
            "The Mediterranean diet is a diet based on the traditional foods and drinks consumed in countries around the Mediterranean Sea. Recent studies have found that the Mediterranean diet is associated with a variety of health benefits, including a reduced risk of cardiovascular disease, diabetes, obesity, and certain types of cancer. Additionally, it has been linked to improved cognitive functioning, better mental health, and a reduced risk of age-related diseases. The diet is rich in fruits, vegetables, whole grains, legumes, nuts, olive oil, fish, and moderate amounts of dairy and poultry.\n"
          ]
        }
      ],
      "source": [
        "prompt = \"Summarize the latest findings on the benefits of a Mediterranean diet.\"\n",
        "generate(prompt)"
      ]
    },
    {
      "cell_type": "markdown",
      "id": "75cca7e4",
      "metadata": {
        "id": "75cca7e4"
      },
      "source": [
        "### Prompt: Develop a patient information sheet on managing diabetes."
      ]
    },
    {
      "cell_type": "code",
      "execution_count": 15,
      "id": "4d75ea83",
      "metadata": {
        "id": "4d75ea83",
        "colab": {
          "base_uri": "https://localhost:8080/"
        },
        "outputId": "65fce70e-9572-4149-bcfe-ce5b9f0ab410"
      },
      "outputs": [
        {
          "output_type": "stream",
          "name": "stdout",
          "text": [
            "Managing Diabetes\n",
            "\n",
            "What is Diabetes?\n",
            "\n",
            "Diabetes is a chronic condition in which the body does not produce enough insulin or does not use insulin properly. Insulin is a hormone that helps the body use sugar for energy.\n",
            "\n",
            "What are the Symptoms of Diabetes?\n",
            "\n",
            "Common symptoms of diabetes include increased thirst, frequent urination, and weight loss. Other symptoms may include fatigue, blurred vision, frequent infections, slow healing of cuts and bruises, and tingling or numbness in the feet or hands.\n",
            "\n",
            "How is Diabetes Managed?\n",
            "\n",
            "Diabetes is managed through lifestyle changes, such as diet and exercise, and medications. It is important to work with your healthcare team to develop an individualized plan for managing diabetes.\n",
            "\n",
            "Diet: Eating a healthy diet is important for managing diabetes. Eating a variety of foods, including whole grains, fruits, vegetables, and lean proteins, can help control blood sugar levels.\n",
            "\n",
            "Exercise: Regular exercise can help manage diabetes. It can help lower blood sugar levels and improve insulin sensitivity.\n",
            "\n",
            "Medications: Depending on your type of diabetes, your doctor may prescribe medications to help manage your diabetes.\n",
            "\n",
            "Monitoring: Regular monitoring of blood sugar levels is important for managing\n"
          ]
        }
      ],
      "source": [
        "prompt = \"Develop a patient information sheet on managing diabetes.\"\n",
        "generate(prompt)"
      ]
    },
    {
      "cell_type": "markdown",
      "id": "6887c894",
      "metadata": {
        "id": "6887c894"
      },
      "source": [
        "### Prompt: Create a plan for a public health campaign on vaccination awareness."
      ]
    },
    {
      "cell_type": "code",
      "execution_count": 16,
      "id": "f39ff02b",
      "metadata": {
        "id": "f39ff02b",
        "colab": {
          "base_uri": "https://localhost:8080/"
        },
        "outputId": "c5fce4ec-e32d-4f95-a5a5-2a853bdb9e29"
      },
      "outputs": [
        {
          "output_type": "stream",
          "name": "stdout",
          "text": [
            "1. Develop a comprehensive plan of action:\n",
            "  - Identify target audience for the campaign \n",
            "  - Develop a message about the importance of vaccination \n",
            "  - Choose the most effective channels for delivering the message \n",
            "  - Determine the resources needed to implement the campaign \n",
            "\n",
            "2. Create a website or social media page to serve as a hub for the campaign: \n",
            "  - Post information about the importance of vaccination \n",
            "  - Provide links to reliable sources of information \n",
            "  - Allow visitors to submit questions and receive answers \n",
            "\n",
            "3. Develop a comprehensive media strategy: \n",
            "  - Utilize traditional media outlets such as television, radio, and print \n",
            "  - Utilize digital media outlets such as social media, websites, and blogs \n",
            "  - Utilize public service announcements (PSAs)\n",
            "\n",
            "4. Develop an outreach strategy: \n",
            "  - Reach out to local health organizations and community groups \n",
            "  - Hold public events such as seminars and workshops \n",
            "  - Utilize direct mail campaigns \n",
            "  - Utilize door-to-door campaigns \n",
            "\n",
            "5. Develop an evaluation strategy: \n",
            "  - Establish baseline data before the campaign begins\n"
          ]
        }
      ],
      "source": [
        "prompt = \"Create a plan for a public health campaign on vaccination awareness.\"\n",
        "generate(prompt)"
      ]
    },
    {
      "cell_type": "markdown",
      "id": "09701b3a",
      "metadata": {
        "id": "09701b3a"
      },
      "source": [
        "## Information Technology (IT)"
      ]
    },
    {
      "cell_type": "markdown",
      "id": "23f3930b",
      "metadata": {
        "id": "23f3930b"
      },
      "source": [
        "### Prompt: Draft a report on the impact of quantum computing on data security."
      ]
    },
    {
      "cell_type": "code",
      "execution_count": 17,
      "id": "e655ba3a",
      "metadata": {
        "id": "e655ba3a",
        "colab": {
          "base_uri": "https://localhost:8080/"
        },
        "outputId": "dfab7f44-cd54-4557-82ba-1d8882280203"
      },
      "outputs": [
        {
          "output_type": "stream",
          "name": "stdout",
          "text": [
            "Introduction\n",
            "\n",
            "Quantum computing is a revolutionary technology that has the potential to transform the way we use computers and store data. Quantum computing is based on the principles of quantum mechanics and uses the principles of quantum entanglement to store and manipulate data. This technology has the potential to revolutionize the field of data security, as it can provide unprecedented levels of protection against the most sophisticated cyberattacks.\n",
            "\n",
            "Background\n",
            "\n",
            "Traditional computers store and process information using bits, which are represented by the binary digits 0 and 1. Quantum computers, on the other hand, use qubits, which are represented by the quantum states of 0 and 1. This allows for the storage and manipulation of data using quantum entanglement, which is a phenomenon where two particles interact with each other in such a way that their quantum states become intertwined.\n",
            "\n",
            "Quantum computers are able to process and store data much faster than traditional computers, and they can also be used to break the most advanced encryption algorithms. This has led to the development of quantum-resistant encryption algorithms, which are designed to be resistant to attacks from quantum computers.\n",
            "\n",
            "Impact of Quantum Computing on Data Security\n",
            "\n",
            "The use of quantum computers has the potential to revolutionize the field of data security. Quantum computers are\n"
          ]
        }
      ],
      "source": [
        "prompt = \"Draft a report on the impact of quantum computing on data security.\"\n",
        "generate(prompt)"
      ]
    },
    {
      "cell_type": "markdown",
      "id": "24825e16",
      "metadata": {
        "id": "24825e16"
      },
      "source": [
        "### Prompt: Develop a troubleshooting guide for common network issues."
      ]
    },
    {
      "cell_type": "code",
      "execution_count": 18,
      "id": "e7be72de",
      "metadata": {
        "id": "e7be72de",
        "colab": {
          "base_uri": "https://localhost:8080/"
        },
        "outputId": "c5439248-2130-4bd6-eeec-825643d8a9c3"
      },
      "outputs": [
        {
          "output_type": "stream",
          "name": "stdout",
          "text": [
            "1. Check the physical connections:\n",
            "\n",
            "- Check that all cables are securely connected to the appropriate ports on the router, modem, and other devices.\n",
            "\n",
            "- Ensure that all cables are in good condition and not damaged.\n",
            "\n",
            "2. Check the power:\n",
            "\n",
            "- Ensure that all devices, such as the router, modem, and other network devices, are powered on.\n",
            "\n",
            "- Check that the power adapter is securely connected to the device and to the power outlet.\n",
            "\n",
            "3. Check the network settings:\n",
            "\n",
            "- Ensure that the IP address, subnet mask, and default gateway of your router are configured correctly.\n",
            "\n",
            "- Verify that the DNS server addresses are set correctly.\n",
            "\n",
            "4. Check the network security settings:\n",
            "\n",
            "- Ensure that the wireless network is secured with a strong password.\n",
            "\n",
            "- Verify that the firewall is enabled and configured correctly.\n",
            "\n",
            "5. Check the network traffic:\n",
            "\n",
            "- Use a network monitoring tool to analyze the network traffic and identify any potential problems.\n",
            "\n",
            "6. Check the router logs:\n",
            "\n",
            "- Check the router logs for any errors or warnings that may indicate a problem.\n",
            "\n",
            "7. Reboot the router:\n",
            "\n",
            "- Reboot the router to see if the\n"
          ]
        }
      ],
      "source": [
        "prompt = \"Develop a troubleshooting guide for common network issues.\"\n",
        "generate(prompt)"
      ]
    },
    {
      "cell_type": "markdown",
      "id": "e75462da",
      "metadata": {
        "id": "e75462da"
      },
      "source": [
        "### Prompt: Describe the process of migrating a database to the cloud."
      ]
    },
    {
      "cell_type": "code",
      "execution_count": 19,
      "id": "481a9d14",
      "metadata": {
        "id": "481a9d14",
        "colab": {
          "base_uri": "https://localhost:8080/"
        },
        "outputId": "33bf59f1-25dd-454c-c5dd-f28be5cb7899"
      },
      "outputs": [
        {
          "output_type": "stream",
          "name": "stdout",
          "text": [
            "1. Assess Existing Database: The first step in migrating a database to the cloud is to assess the existing database. This includes evaluating the database structure, data types, and any customizations that may need to be taken into account.\n",
            "\n",
            "2. Prepare for Migration: Once the assessment is complete, the next step is to prepare for the migration. This involves creating a backup of the existing database, setting up a cloud environment, and configuring the cloud environment to support the existing database.\n",
            "\n",
            "3. Migrate Data: Once the cloud environment is ready, the data can be migrated. This involves transferring the existing data into the cloud environment. Depending on the size of the database, this may involve using a tool such as AWS Data Migration Service or an ETL process.\n",
            "\n",
            "4. Test and Validate: After the data is migrated, it is important to test and validate the data. This ensures that all data is migrated successfully and that the data is in the correct format.\n",
            "\n",
            "5. Finalize Migration: After the data is tested and validated, the final step is to finalize the migration. This includes any necessary clean up such as deleting the old database and setting up security and access control.\n"
          ]
        }
      ],
      "source": [
        "prompt = \"Describe the process of migrating a database to the cloud.\"\n",
        "generate(prompt)"
      ]
    },
    {
      "cell_type": "markdown",
      "id": "72c0ac1b",
      "metadata": {
        "id": "72c0ac1b"
      },
      "source": [
        "## Engineering"
      ]
    },
    {
      "cell_type": "markdown",
      "id": "dcc67cee",
      "metadata": {
        "id": "dcc67cee"
      },
      "source": [
        "### Prompt: Propose a sustainable design for a water purification system."
      ]
    },
    {
      "cell_type": "code",
      "execution_count": 20,
      "id": "38f0c205",
      "metadata": {
        "id": "38f0c205",
        "colab": {
          "base_uri": "https://localhost:8080/"
        },
        "outputId": "1c46e8a9-c47c-47d9-a2d1-ac2e8becc0f1"
      },
      "outputs": [
        {
          "output_type": "stream",
          "name": "stdout",
          "text": [
            "1. Utilize a multi-stage filtration system to remove contaminants from the water. This system should include sediment filtration, carbon filtration, and reverse osmosis filtration.\n",
            "\n",
            "2. Use UV light to kill bacteria and other microorganisms in the water.\n",
            "\n",
            "3. Incorporate a water softener to reduce the amount of minerals in the water.\n",
            "\n",
            "4. Install a water storage tank to store the purified water for later use.\n",
            "\n",
            "5. Utilize renewable energy sources, such as solar or wind, to power the system.\n",
            "\n",
            "6. Incorporate a monitoring system to track the water quality and alert the user when the filters need to be changed.\n",
            "\n",
            "7. Design the system to be modular and scalable so that it can be easily upgraded or downsized as needed.\n",
            "\n",
            "8. Ensure that all components are made from sustainable materials and are recyclable or reusable.\n"
          ]
        }
      ],
      "source": [
        "prompt = \"Propose a sustainable design for a water purification system.\"\n",
        "generate(prompt)"
      ]
    },
    {
      "cell_type": "markdown",
      "id": "3e640059",
      "metadata": {
        "id": "3e640059"
      },
      "source": [
        "### Prompt: Evaluate the benefits of using composite materials in aerospace."
      ]
    },
    {
      "cell_type": "code",
      "execution_count": 21,
      "id": "15bfdb51",
      "metadata": {
        "id": "15bfdb51",
        "colab": {
          "base_uri": "https://localhost:8080/"
        },
        "outputId": "663f9672-2e20-41f2-e91b-021ef588d4eb"
      },
      "outputs": [
        {
          "output_type": "stream",
          "name": "stdout",
          "text": [
            "1. Improved Strength and Durability: Composite materials offer improved strength and durability compared to traditional metals, making them ideal for aerospace applications. They are also lighter, which helps reduce the overall weight of the aircraft.\n",
            "\n",
            "2. Corrosion Resistance: Composite materials are resistant to corrosion, which helps extend the life of the aircraft and reduces maintenance costs.\n",
            "\n",
            "3. Heat Resistance: Composite materials are able to withstand higher temperatures than traditional metals, which is beneficial for aerospace applications.\n",
            "\n",
            "4. Design Flexibility: Composite materials can be designed to meet specific requirements, such as strength and stiffness, allowing for greater design flexibility.\n",
            "\n",
            "5. Cost Savings: Composite materials can be more cost-effective than traditional metals, helping to reduce overall costs.\n"
          ]
        }
      ],
      "source": [
        "prompt = \"Evaluate the benefits of using composite materials in aerospace.\"\n",
        "generate(prompt)"
      ]
    },
    {
      "cell_type": "markdown",
      "id": "76aecdf4",
      "metadata": {
        "id": "76aecdf4"
      },
      "source": [
        "### Prompt: Outline the steps for conducting a stress analysis on a bridge."
      ]
    },
    {
      "cell_type": "code",
      "execution_count": 22,
      "id": "ff676dee",
      "metadata": {
        "id": "ff676dee",
        "colab": {
          "base_uri": "https://localhost:8080/"
        },
        "outputId": "2e2efc79-21d8-4c2d-b996-061be690efb2"
      },
      "outputs": [
        {
          "output_type": "stream",
          "name": "stdout",
          "text": [
            "1. Gather data: Collect information about the bridge, such as its design, construction materials, and location. Also collect data on the environment around the bridge, such as the weather, soil type, and water levels.\n",
            "\n",
            "2. Analyze the bridge: Examine the bridge for signs of stress, such as cracks, corrosion, or other damage.\n",
            "\n",
            "3. Calculate loads: Calculate the loads that the bridge will be subjected to, such as the weight of vehicles, wind, and water.\n",
            "\n",
            "4. Model the bridge: Create a computer model of the bridge to simulate the effects of the loads on the bridge.\n",
            "\n",
            "5. Analyze the model: Use the model to analyze the stresses on the bridge and determine if any areas are under excessive strain.\n",
            "\n",
            "6. Test the bridge: Conduct physical tests on the bridge to confirm the results of the stress analysis.\n",
            "\n",
            "7. Make repairs: Make any necessary repairs or adjustments to the bridge to ensure its safety and integrity.\n"
          ]
        }
      ],
      "source": [
        "prompt = \"Outline the steps for conducting a stress analysis on a bridge.\"\n",
        "generate(prompt)"
      ]
    },
    {
      "cell_type": "markdown",
      "id": "40e37f11",
      "metadata": {
        "id": "40e37f11"
      },
      "source": [
        "## Marketing"
      ]
    },
    {
      "cell_type": "markdown",
      "id": "2c1844bf",
      "metadata": {
        "id": "2c1844bf"
      },
      "source": [
        "### Prompt: Develop a social media strategy for a new fitness app launch."
      ]
    },
    {
      "cell_type": "code",
      "execution_count": 23,
      "id": "1f51f616",
      "metadata": {
        "id": "1f51f616",
        "colab": {
          "base_uri": "https://localhost:8080/"
        },
        "outputId": "007a93a2-8cb3-4211-c4e7-ac72b5770f95"
      },
      "outputs": [
        {
          "output_type": "stream",
          "name": "stdout",
          "text": [
            "1. Establish a presence on the major social media platforms: Facebook, Twitter, Instagram, and YouTube.\n",
            "\n",
            "2. Create an engaging and informative content strategy that highlights the features of the app, offers helpful tips and advice, and shares inspiring stories of users who have achieved success with the app.\n",
            "\n",
            "3. Leverage influencers in the fitness community to promote the app and share their experiences.\n",
            "\n",
            "4. Develop a hashtag campaign to encourage user engagement and create a sense of community.\n",
            "\n",
            "5. Utilize paid and organic advertising to reach a wider audience.\n",
            "\n",
            "6. Host contests and giveaways to incentivize users to share their experiences and help spread the word.\n",
            "\n",
            "7. Monitor and respond to user feedback in a timely manner.\n",
            "\n",
            "8. Track the performance of your social media efforts to ensure that you are reaching your goals.\n"
          ]
        }
      ],
      "source": [
        "prompt = \"Develop a social media strategy for a new fitness app launch.\"\n",
        "generate(prompt)"
      ]
    },
    {
      "cell_type": "markdown",
      "id": "da129e2c",
      "metadata": {
        "id": "da129e2c"
      },
      "source": [
        "### Prompt: Create a customer persona for a luxury travel agency."
      ]
    },
    {
      "cell_type": "code",
      "execution_count": 24,
      "id": "76cb03fc",
      "metadata": {
        "id": "76cb03fc",
        "colab": {
          "base_uri": "https://localhost:8080/"
        },
        "outputId": "81cc4e61-ad74-4083-dacc-c7670c5cfb2a"
      },
      "outputs": [
        {
          "output_type": "stream",
          "name": "stdout",
          "text": [
            "Name:\n",
            "\n",
            "Julia\n",
            "\n",
            "Age:\n",
            "\n",
            "45\n",
            "\n",
            "Occupation:\n",
            "\n",
            "Attorney\n",
            "\n",
            "Location:\n",
            "\n",
            "New York City\n",
            "\n",
            "Income:\n",
            "\n",
            "$250,000+\n",
            "\n",
            "Goals:\n",
            "\n",
            "Julia is looking for the best of the best when it comes to travel. She wants luxurious experiences that will be memorable and unique. She is willing to pay extra for quality and convenience.\n",
            "\n",
            "Challenges:\n",
            "\n",
            "Julia is a busy professional who doesn't have a lot of time to research and plan her trips. She needs a travel agency that can provide personalized service and help her find the perfect destination for her needs.\n",
            "\n",
            "Motivations:\n",
            "\n",
            "Julia loves to travel and explore new places. She wants to make sure that her trips are comfortable and luxurious. She wants to have unique experiences that she can share with her friends and family.\n",
            "\n",
            "Behaviors:\n",
            "\n",
            "Julia is willing to pay for convenience and quality. She is an active user of social media and loves to share her experiences with her friends and family. She is a frequent traveler and often looks for deals and discounts.\n"
          ]
        }
      ],
      "source": [
        "prompt = \"Create a customer persona for a luxury travel agency.\"\n",
        "generate(prompt)"
      ]
    },
    {
      "cell_type": "markdown",
      "id": "e5e1bbbe",
      "metadata": {
        "id": "e5e1bbbe"
      },
      "source": [
        "### Prompt: Design a survey to gather customer feedback on a new product."
      ]
    },
    {
      "cell_type": "code",
      "execution_count": 25,
      "id": "3eb0e965",
      "metadata": {
        "id": "3eb0e965",
        "colab": {
          "base_uri": "https://localhost:8080/"
        },
        "outputId": "fc6889d0-8222-431b-9f1d-84a642728ca3"
      },
      "outputs": [
        {
          "output_type": "stream",
          "name": "stdout",
          "text": [
            "1. How familiar are you with our new product?\n",
            "A. Very familiar\n",
            "B. Somewhat familiar\n",
            "C. Not familiar\n",
            "\n",
            "2. How satisfied are you with the features of our new product?\n",
            "A. Very satisfied\n",
            "B. Somewhat satisfied\n",
            "C. Neutral\n",
            "D. Somewhat dissatisfied\n",
            "E. Very dissatisfied\n",
            "\n",
            "3. How likely are you to recommend our new product to a friend?\n",
            "A. Very likely\n",
            "B. Somewhat likely\n",
            "C. Neutral\n",
            "D. Somewhat unlikely\n",
            "E. Very unlikely\n",
            "\n",
            "4. On a scale of 1-5, how would you rate the overall quality of our new product?\n",
            "A. 1\n",
            "B. 2\n",
            "C. 3\n",
            "D. 4\n",
            "E. 5\n",
            "\n",
            "5. What do you think could be improved about our new product?\n",
            "\n",
            "_________________________________________________________________________________________________________________________________________________________________________________________________________________________________________________________________________________________________________________________________________________________________________________________________________________________________________________________________________________________________________________________________________________________________________________________________________________________________________________________________________________________________________________________________________________________________________________________________________________________________________________________________________________________________________________________________________________________________________________________________________________________________________________\n"
          ]
        }
      ],
      "source": [
        "prompt = \"Design a survey to gather customer feedback on a new product.\"\n",
        "generate(prompt)"
      ]
    },
    {
      "cell_type": "markdown",
      "id": "fb354f76",
      "metadata": {
        "id": "fb354f76"
      },
      "source": [
        "## Law"
      ]
    },
    {
      "cell_type": "markdown",
      "id": "69554440",
      "metadata": {
        "id": "69554440"
      },
      "source": [
        "### Prompt: Explain the legal considerations of intellectual property in the digital age."
      ]
    },
    {
      "cell_type": "code",
      "execution_count": 26,
      "id": "23987fe2",
      "metadata": {
        "id": "23987fe2",
        "colab": {
          "base_uri": "https://localhost:8080/"
        },
        "outputId": "73f5d713-9914-43ee-e332-612a999f2a5c"
      },
      "outputs": [
        {
          "output_type": "stream",
          "name": "stdout",
          "text": [
            "Intellectual property (IP) is a legal concept that refers to creations of the mind, such as inventions, literary and artistic works, designs, symbols, and names used in commerce. With the digital age, IP is increasingly vulnerable to unauthorized use, reproduction, and distribution.\n",
            "\n",
            "The most common forms of IP are copyright, trademark, and patent. Copyright protects original works of authorship, such as books, music, art, and software. Trademarks are words, logos, or symbols that identify a particular product or service. Patents protect inventions and processes.\n",
            "\n",
            "When dealing with IP in the digital age, legal considerations include the following:\n",
            "\n",
            "• Copyright Infringement: Unauthorized use or reproduction of copyrighted material is illegal and can result in civil and criminal penalties.\n",
            "\n",
            "• Trademark Infringement: Unauthorized use of a trademarked name or logo is illegal and can result in civil and criminal penalties.\n",
            "\n",
            "• Patent Infringement: Unauthorized use of a patented invention or process is illegal and can result in civil and criminal penalties.\n",
            "\n",
            "• Digital Rights Management (DRM): DRM technology is used to protect digital content from unauthorized use, reproduction, and distribution.\n",
            "\n",
            "• Contractual Agreements: Licensing\n"
          ]
        }
      ],
      "source": [
        "prompt = \"Explain the legal considerations of intellectual property in the digital age.\"\n",
        "generate(prompt)"
      ]
    },
    {
      "cell_type": "markdown",
      "id": "22900f7e",
      "metadata": {
        "id": "22900f7e"
      },
      "source": [
        "### Prompt: Draft a template for a residential lease agreement."
      ]
    },
    {
      "cell_type": "code",
      "execution_count": 27,
      "id": "336942d3",
      "metadata": {
        "id": "336942d3",
        "colab": {
          "base_uri": "https://localhost:8080/"
        },
        "outputId": "afa5e43e-1ac2-4163-f0fd-c7acf3324ec2"
      },
      "outputs": [
        {
          "output_type": "stream",
          "name": "stdout",
          "text": [
            "LEASE AGREEMENT\n",
            "\n",
            "This Lease Agreement (the “Agreement”) is made and entered into this [date], by and between [Landlord name] (the “Landlord”), and [Tenant name] (the “Tenant”).\n",
            "\n",
            "1. Premises. The Landlord hereby leases to the Tenant and the Tenant hereby leases from the Landlord, the premises located at [address] (the “Premises”).\n",
            "\n",
            "2. Term. The term of this Agreement shall be for [term], beginning on [date] and ending on [date].\n",
            "\n",
            "3. Rent. The Tenant shall pay the Landlord rent in the amount of [amount] per month, payable on the first day of each month during the term of this Agreement.\n",
            "\n",
            "4. Security Deposit. The Tenant shall pay the Landlord a security deposit in the amount of [amount], to be held by the Landlord in a separate account. This security deposit shall be refundable to the Tenant at the end of the term of this Agreement, provided that no damages have been done to the Premises.\n",
            "\n",
            "5. Utilities. The Tenant shall be responsible for\n"
          ]
        }
      ],
      "source": [
        "prompt = \"Draft a template for a residential lease agreement.\"\n",
        "generate(prompt)"
      ]
    },
    {
      "cell_type": "markdown",
      "id": "eb8746e9",
      "metadata": {
        "id": "eb8746e9"
      },
      "source": [
        "### Prompt: Summarize the changes in tax law for the upcoming year."
      ]
    },
    {
      "cell_type": "code",
      "execution_count": 28,
      "id": "897ec2ce",
      "metadata": {
        "id": "897ec2ce",
        "colab": {
          "base_uri": "https://localhost:8080/"
        },
        "outputId": "9cd96641-1c3b-4bdd-c30b-157fb131e45d"
      },
      "outputs": [
        {
          "output_type": "stream",
          "name": "stdout",
          "text": [
            "For the upcoming year, the Tax Cuts and Jobs Act of 2017 will remain in effect, with some changes. The standard deduction has been increased to $12,400 for individuals and $24,800 for married couples filing jointly. The child tax credit has also been increased to $2,000 and the income limits for claiming the credit have been raised. The cap on the deduction for state and local taxes (SALT) has been reduced to $10,000, and the Alternative Minimum Tax (AMT) exemption has been increased. Additionally, some deductions, such as those for miscellaneous expenses and home equity loan interest, have been eliminated. Finally, the tax rate for corporations has been reduced from 35% to 21%.\n"
          ]
        }
      ],
      "source": [
        "prompt = \"Summarize the changes in tax law for the upcoming year.\"\n",
        "generate(prompt)"
      ]
    },
    {
      "cell_type": "markdown",
      "id": "3a8b07ef",
      "metadata": {
        "id": "3a8b07ef"
      },
      "source": [
        "## Agriculture"
      ]
    },
    {
      "cell_type": "markdown",
      "id": "b2f5a267",
      "metadata": {
        "id": "b2f5a267"
      },
      "source": [
        "### Prompt: Design a crop rotation plan to improve soil health."
      ]
    },
    {
      "cell_type": "code",
      "execution_count": 29,
      "id": "9dfca754",
      "metadata": {
        "id": "9dfca754",
        "colab": {
          "base_uri": "https://localhost:8080/"
        },
        "outputId": "2108e863-9e7c-42cf-da02-ad2726bc5365"
      },
      "outputs": [
        {
          "output_type": "stream",
          "name": "stdout",
          "text": [
            "Crop rotation plan:\n",
            "\n",
            "1. Year 1: Plant legumes such as peas, beans, and lentils to add nitrogen to the soil.\n",
            "\n",
            "2. Year 2: Plant grains such as wheat, oats, barley, and rye to add organic matter to the soil.\n",
            "\n",
            "3. Year 3: Plant root crops such as potatoes, carrots, and turnips to improve soil structure.\n",
            "\n",
            "4. Year 4: Plant brassicas such as broccoli, cabbage, and cauliflower to add organic matter and suppress weeds.\n",
            "\n",
            "5. Year 5: Plant green manure crops such as clover and alfalfa to add nitrogen to the soil.\n",
            "\n",
            "6. Year 6: Plant cover crops such as rye and vetch to improve soil structure and suppress weeds.\n",
            "\n",
            "7. Year 7: Plant a mix of vegetables such as tomatoes, peppers, and squash to add organic matter and nutrients to the soil.\n",
            "\n",
            "8. Year 8: Plant grasses such as rye and clover to add organic matter and nitrogen to the soil.\n",
            "\n",
            "9. Year 9: Plant a mix of herbs such as rosemary, thyme, and oregano to add nutrients and suppress weeds.\n",
            "\n",
            "10. Year 10:\n"
          ]
        }
      ],
      "source": [
        "prompt = \"Design a crop rotation plan to improve soil health.\"\n",
        "generate(prompt)"
      ]
    },
    {
      "cell_type": "markdown",
      "id": "bf5d3787",
      "metadata": {
        "id": "bf5d3787"
      },
      "source": [
        "### Prompt: Explain the benefits of organic certification for small farms."
      ]
    },
    {
      "cell_type": "code",
      "execution_count": 30,
      "id": "811346df",
      "metadata": {
        "id": "811346df",
        "colab": {
          "base_uri": "https://localhost:8080/"
        },
        "outputId": "20c9e36b-d99d-4498-c930-bf040b929a75"
      },
      "outputs": [
        {
          "output_type": "stream",
          "name": "stdout",
          "text": [
            "Organic certification can provide small farms with a number of benefits, including: \n",
            "\n",
            "1. Increased Profitability: Organic certification can open up new markets for small farms, as organic products often command a higher price. This can lead to increased profits for small farms. \n",
            "\n",
            "2. Increased Visibility: Organic certification can help to increase visibility for small farms, as it provides a recognizable label that consumers can trust. This can help increase consumer demand for the farm’s products.\n",
            "\n",
            "3. Increased Sustainability: Organic certification ensures that small farms are following sustainable agricultural practices, which can help to reduce their environmental impact. This can also help to ensure the long-term viability of the farm.\n",
            "\n",
            "4. Increased Credibility: Organic certification can help to give small farms more credibility, as it shows that they are committed to producing high-quality, sustainable products. This can help to build trust with consumers and other stakeholders.\n"
          ]
        }
      ],
      "source": [
        "prompt = \"Explain the benefits of organic certification for small farms.\"\n",
        "generate(prompt)"
      ]
    },
    {
      "cell_type": "markdown",
      "id": "0372e8cc",
      "metadata": {
        "id": "0372e8cc"
      },
      "source": [
        "### Prompt: Outline a business plan for a community-supported agriculture (CSA) program."
      ]
    },
    {
      "cell_type": "code",
      "execution_count": 31,
      "id": "5dbac035",
      "metadata": {
        "id": "5dbac035",
        "colab": {
          "base_uri": "https://localhost:8080/"
        },
        "outputId": "d86ca142-73a7-4d5c-eb76-67050cfc8646"
      },
      "outputs": [
        {
          "output_type": "stream",
          "name": "stdout",
          "text": [
            "1. Business Overview:\n",
            "\n",
            "a. Business Name: \n",
            "\n",
            "Community Supported Agriculture (CSA) Program\n",
            "\n",
            "b. Mission Statement:\n",
            "\n",
            "Our mission is to provide fresh, local, and sustainable produce to our community members, while supporting local farmers and educating our members on the importance of sustainable agriculture. \n",
            "\n",
            "c. Vision Statement:\n",
            "\n",
            "Our vision is to create a vibrant and thriving local food system that supports the health and wellbeing of our community and the environment. \n",
            "\n",
            "2. Market Analysis:\n",
            "\n",
            "a. Target Market:\n",
            "\n",
            "Our target market is individuals and families who are interested in eating fresh, local, and sustainable produce. We will be targeting both urban and rural areas, as well as college campuses. \n",
            "\n",
            "b. Market Needs:\n",
            "\n",
            "Our target market has a need for access to fresh, local, and sustainable produce. They also need education on the importance of sustainable agriculture and how to prepare their produce. \n",
            "\n",
            "c. Market Trends:\n",
            "\n",
            "The trend towards local and sustainable food is growing, as more people become aware of the importance of supporting local farmers and the environment. \n",
            "\n",
            "3. Products and Services:\n",
            "\n",
            "a. Products:\n",
            "\n",
            "Our products will include fresh\n"
          ]
        }
      ],
      "source": [
        "prompt = \"Outline a business plan for a community-supported agriculture (CSA) program.\"\n",
        "generate(prompt)"
      ]
    },
    {
      "cell_type": "markdown",
      "id": "21262f7d",
      "metadata": {
        "id": "21262f7d"
      },
      "source": [
        "## Hospitality"
      ]
    },
    {
      "cell_type": "markdown",
      "id": "7c9c08fb",
      "metadata": {
        "id": "7c9c08fb"
      },
      "source": [
        "### Prompt: Create a guest experience improvement plan for a boutique hotel."
      ]
    },
    {
      "cell_type": "code",
      "execution_count": 32,
      "id": "9afc8d83",
      "metadata": {
        "id": "9afc8d83",
        "colab": {
          "base_uri": "https://localhost:8080/"
        },
        "outputId": "968bb86d-3ea6-4495-868a-f1db0b7dc7de"
      },
      "outputs": [
        {
          "output_type": "stream",
          "name": "stdout",
          "text": [
            "1. Create a welcoming atmosphere: Ensure that all staff members are friendly, knowledgeable, and accommodating to guests. Provide a warm welcome to guests upon arrival and make sure they feel comfortable and welcomed.\n",
            "\n",
            "2. Enhance the amenities: Provide complimentary amenities such as free Wi-Fi, a mini-fridge, and other useful items in each room. Offer special discounts and packages for guests who stay longer.\n",
            "\n",
            "3. Improve the dining experience: Offer a wide variety of food and beverages in the hotel restaurant. Make sure the menu is updated regularly and that the food is of high quality.\n",
            "\n",
            "4. Enhance the room decor: Keep the rooms updated with modern furniture and decor. Ensure that the beds are comfortable and that all amenities are in working order.\n",
            "\n",
            "5. Improve the cleanliness: Ensure that all areas of the hotel are kept clean and tidy at all times.\n",
            "\n",
            "6. Upgrade the technology: Install modern technology in each room such as flat-screen TVs, digital thermostats, and USB charging ports.\n",
            "\n",
            "7. Offer personalized services: Provide additional services such as laundry, babysitting, and concierge services.\n",
            "\n",
            "8. Enhance the guest experience: Provide guests with a unique and memorable experience. Offer activities\n"
          ]
        }
      ],
      "source": [
        "prompt = \"Create a guest experience improvement plan for a boutique hotel.\"\n",
        "generate(prompt)"
      ]
    },
    {
      "cell_type": "markdown",
      "id": "7eefab3b",
      "metadata": {
        "id": "7eefab3b"
      },
      "source": [
        "### Prompt: Develop a marketing plan for a new restaurant opening."
      ]
    },
    {
      "cell_type": "code",
      "execution_count": 33,
      "id": "4a41a79e",
      "metadata": {
        "id": "4a41a79e",
        "colab": {
          "base_uri": "https://localhost:8080/"
        },
        "outputId": "90d40a84-7ce3-49f8-b777-d9515bcd8d55"
      },
      "outputs": [
        {
          "output_type": "stream",
          "name": "stdout",
          "text": [
            "1. Establish a Brand Identity: Develop a unique logo and brand identity for the restaurant that will be used in all marketing materials.\n",
            "\n",
            "2. Create an Online Presence: Develop a website and social media accounts for the restaurant. Utilize these platforms to post content related to the restaurant, such as menu items, specials, and events.\n",
            "\n",
            "3. Develop a Target Audience: Identify the target audience for the restaurant and create content to appeal to them.\n",
            "\n",
            "4. Utilize Traditional Advertising: Use traditional advertising methods such as print, radio and television to reach a wider audience.\n",
            "\n",
            "5. Utilize Guerilla Marketing Tactics: Utilize guerilla marketing tactics such as street teams, flyers, and word-of-mouth to spread the word about the restaurant.\n",
            "\n",
            "6. Develop a Loyalty Program: Create a loyalty program to reward repeat customers. This will help to ensure that customers keep coming back.\n",
            "\n",
            "7. Create Strategic Partnerships: Develop strategic partnerships with local businesses and organizations to increase visibility and reach a larger audience.\n",
            "\n",
            "8. Utilize Local Events: Participate in local events to increase visibility and gain new customers.\n",
            "\n",
            "9. Develop a Promotional Strategy: Develop\n"
          ]
        }
      ],
      "source": [
        "prompt = \"Develop a marketing plan for a new restaurant opening.\"\n",
        "generate(prompt)"
      ]
    },
    {
      "cell_type": "markdown",
      "id": "0bd1a7cc",
      "metadata": {
        "id": "0bd1a7cc"
      },
      "source": [
        "### Prompt: Design a training module for customer service best practices in hospitality."
      ]
    },
    {
      "cell_type": "code",
      "execution_count": 34,
      "id": "c82afce5",
      "metadata": {
        "id": "c82afce5",
        "colab": {
          "base_uri": "https://localhost:8080/"
        },
        "outputId": "803f17ff-7e6b-4fbe-c5f1-0a958f5f844a"
      },
      "outputs": [
        {
          "output_type": "stream",
          "name": "stdout",
          "text": [
            "Training Module Outline:\n",
            "\n",
            "I. Introduction to Customer Service Best Practices in Hospitality\n",
            "A. Overview of the importance of providing excellent customer service in the hospitality industry\n",
            "B. Benefits of providing excellent customer service\n",
            "C. Overview of common customer service challenges in the hospitality industry\n",
            "\n",
            "II. Understanding Your Customers\n",
            "A. Identifying customer needs and expectations\n",
            "B. Understanding customer motivations and preferences\n",
            "C. Developing effective communication strategies\n",
            "\n",
            "III. Delivering Excellent Customer Service\n",
            "A. Establishing a friendly and welcoming environment\n",
            "B. Understanding the importance of customer feedback\n",
            "C. Leveraging technology to enhance customer service\n",
            "\n",
            "IV. Handling Difficult Customers\n",
            "A. Identifying and responding to customer complaints\n",
            "B. Empowering employees to handle difficult customer situations\n",
            "C. Developing strategies for de-escalating difficult customer interactions\n",
            "\n",
            "V. Conclusion\n",
            "A. Summary of key customer service best practices in hospitality\n",
            "B. Summary of the benefits of providing excellent customer service\n",
            "C. Review of the topics covered in the training module\n"
          ]
        }
      ],
      "source": [
        "prompt = \"Design a training module for customer service best practices in hospitality.\"\n",
        "generate(prompt)"
      ]
    }
  ],
  "metadata": {
    "colab": {
      "provenance": [],
      "include_colab_link": true
    },
    "language_info": {
      "name": "python"
    },
    "kernelspec": {
      "name": "python3",
      "display_name": "Python 3"
    }
  },
  "nbformat": 4,
  "nbformat_minor": 5
}