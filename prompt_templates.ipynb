{
  "cells": [
    {
      "cell_type": "markdown",
      "metadata": {
        "id": "view-in-github",
        "colab_type": "text"
      },
      "source": [
        "<a href=\"https://colab.research.google.com/github/AbrahamKong/CMPE297-Advanced_Prompt_Engineering_Strategies_Assignment/blob/main/prompt_templates.ipynb\" target=\"_parent\"><img src=\"https://colab.research.google.com/assets/colab-badge.svg\" alt=\"Open In Colab\"/></a>"
      ]
    },
    {
      "cell_type": "code",
      "execution_count": 1,
      "id": "ae79aa73",
      "metadata": {
        "colab": {
          "base_uri": "https://localhost:8080/"
        },
        "id": "ae79aa73",
        "outputId": "ed02ed8a-60cf-48f5-cb68-22a46e4a9916"
      },
      "outputs": [
        {
          "output_type": "stream",
          "name": "stdout",
          "text": [
            "Collecting openai==0.28.1\n",
            "  Downloading openai-0.28.1-py3-none-any.whl (76 kB)\n",
            "\u001b[?25l     \u001b[90m━━━━━━━━━━━━━━━━━━━━━━━━━━━━━━━━━━━━━━━━\u001b[0m \u001b[32m0.0/77.0 kB\u001b[0m \u001b[31m?\u001b[0m eta \u001b[36m-:--:--\u001b[0m\r\u001b[2K     \u001b[91m━━━━━━━━━━━━━━━━━━━━━━━━━━━━━━━━━━━━━\u001b[0m\u001b[90m╺\u001b[0m\u001b[90m━━\u001b[0m \u001b[32m71.7/77.0 kB\u001b[0m \u001b[31m2.1 MB/s\u001b[0m eta \u001b[36m0:00:01\u001b[0m\r\u001b[2K     \u001b[90m━━━━━━━━━━━━━━━━━━━━━━━━━━━━━━━━━━━━━━━━\u001b[0m \u001b[32m77.0/77.0 kB\u001b[0m \u001b[31m1.8 MB/s\u001b[0m eta \u001b[36m0:00:00\u001b[0m\n",
            "\u001b[?25hRequirement already satisfied: requests>=2.20 in /usr/local/lib/python3.10/dist-packages (from openai==0.28.1) (2.31.0)\n",
            "Requirement already satisfied: tqdm in /usr/local/lib/python3.10/dist-packages (from openai==0.28.1) (4.66.1)\n",
            "Requirement already satisfied: aiohttp in /usr/local/lib/python3.10/dist-packages (from openai==0.28.1) (3.8.6)\n",
            "Requirement already satisfied: charset-normalizer<4,>=2 in /usr/local/lib/python3.10/dist-packages (from requests>=2.20->openai==0.28.1) (3.3.1)\n",
            "Requirement already satisfied: idna<4,>=2.5 in /usr/local/lib/python3.10/dist-packages (from requests>=2.20->openai==0.28.1) (3.4)\n",
            "Requirement already satisfied: urllib3<3,>=1.21.1 in /usr/local/lib/python3.10/dist-packages (from requests>=2.20->openai==0.28.1) (2.0.7)\n",
            "Requirement already satisfied: certifi>=2017.4.17 in /usr/local/lib/python3.10/dist-packages (from requests>=2.20->openai==0.28.1) (2023.7.22)\n",
            "Requirement already satisfied: attrs>=17.3.0 in /usr/local/lib/python3.10/dist-packages (from aiohttp->openai==0.28.1) (23.1.0)\n",
            "Requirement already satisfied: multidict<7.0,>=4.5 in /usr/local/lib/python3.10/dist-packages (from aiohttp->openai==0.28.1) (6.0.4)\n",
            "Requirement already satisfied: async-timeout<5.0,>=4.0.0a3 in /usr/local/lib/python3.10/dist-packages (from aiohttp->openai==0.28.1) (4.0.3)\n",
            "Requirement already satisfied: yarl<2.0,>=1.0 in /usr/local/lib/python3.10/dist-packages (from aiohttp->openai==0.28.1) (1.9.2)\n",
            "Requirement already satisfied: frozenlist>=1.1.1 in /usr/local/lib/python3.10/dist-packages (from aiohttp->openai==0.28.1) (1.4.0)\n",
            "Requirement already satisfied: aiosignal>=1.1.2 in /usr/local/lib/python3.10/dist-packages (from aiohttp->openai==0.28.1) (1.3.1)\n",
            "Installing collected packages: openai\n",
            "\u001b[31mERROR: pip's dependency resolver does not currently take into account all the packages that are installed. This behaviour is the source of the following dependency conflicts.\n",
            "llmx 0.0.15a0 requires cohere, which is not installed.\n",
            "llmx 0.0.15a0 requires tiktoken, which is not installed.\u001b[0m\u001b[31m\n",
            "\u001b[0mSuccessfully installed openai-0.28.1\n"
          ]
        }
      ],
      "source": [
        "# !pip install openai==\"0.28.1\""
      ]
    },
    {
      "cell_type": "code",
      "execution_count": 2,
      "id": "590e9a47",
      "metadata": {
        "id": "590e9a47"
      },
      "outputs": [],
      "source": [
        "import torch\n",
        "import openai"
      ]
    },
    {
      "cell_type": "code",
      "execution_count": 3,
      "id": "d350e13e",
      "metadata": {
        "id": "d350e13e"
      },
      "outputs": [],
      "source": [
        "openai.api_key=\"\""
      ]
    },
    {
      "cell_type": "code",
      "execution_count": 5,
      "id": "cd49d78e",
      "metadata": {
        "id": "cd49d78e"
      },
      "outputs": [],
      "source": [
        "def generate_response(prompt, context):\n",
        "    full_prompt = context + \"\\n\" + prompt\n",
        "    try:\n",
        "      response = openai.Completion.create(\n",
        "        engine=\"text-davinci-003\",\n",
        "        prompt=full_prompt,\n",
        "        max_tokens=100,\n",
        "        temperature=0.5\n",
        "      )\n",
        "    except Exception as ex:\n",
        "      print(ex)\n",
        "    return response.choices[0].text.strip()"
      ]
    },
    {
      "cell_type": "markdown",
      "id": "c6327b94",
      "metadata": {
        "id": "c6327b94"
      },
      "source": [
        "## Persona Pattern"
      ]
    },
    {
      "cell_type": "markdown",
      "id": "0ee77fc6",
      "metadata": {
        "id": "0ee77fc6"
      },
      "source": [
        "### Prompt Template:"
      ]
    },
    {
      "cell_type": "code",
      "execution_count": 6,
      "id": "911b125b",
      "metadata": {
        "id": "911b125b"
      },
      "outputs": [],
      "source": [
        "persona = \"\"\"\n",
        "I am an assistant that provides detailed and concise responses. I am knowledgeable in various domains including technology, science, literature, and history.\n",
        "I am polite, respectful, and always willing to help. I do not provide medical advice or engage in discussions that promote bias or take sides in political matters.\n",
        "\"\"\""
      ]
    },
    {
      "cell_type": "markdown",
      "id": "a178cc90",
      "metadata": {
        "id": "a178cc90"
      },
      "source": [
        "### New Success Cases:"
      ]
    },
    {
      "cell_type": "code",
      "execution_count": 7,
      "id": "9a8938f7",
      "metadata": {
        "colab": {
          "base_uri": "https://localhost:8080/"
        },
        "id": "9a8938f7",
        "outputId": "a4d535e5-6a93-4750-fb73-ed13a6232109"
      },
      "outputs": [
        {
          "output_type": "stream",
          "name": "stdout",
          "text": [
            "New Success Case:  Photosynthesis is a process used by plants and other organisms to convert light energy from the sun into chemical energy, which is then used to fuel the organism's activities. During photosynthesis, light energy is absorbed by chlorophyll molecules in the leaves of plants, which triggers a series of chemical reactions. These reactions convert carbon dioxide and water into glucose (sugar) and oxygen. The glucose is used by the plant as an energy source, while the oxygen is released into the atmosphere.\n"
          ]
        }
      ],
      "source": [
        "print(\"New Success Case: \", generate_response(\"Can you explain how photosynthesis works?\", persona))"
      ]
    },
    {
      "cell_type": "code",
      "execution_count": 8,
      "id": "28c1278e",
      "metadata": {
        "colab": {
          "base_uri": "https://localhost:8080/"
        },
        "id": "28c1278e",
        "outputId": "78de2527-0523-4321-e8b3-969ec323e5a2"
      },
      "outputs": [
        {
          "output_type": "stream",
          "name": "stdout",
          "text": [
            "New Success Case:  The internet is a global network of interconnected computers and networks that share information and resources. It was first developed in the 1960s by the United States Department of Defense as a way to quickly share information between computers in different locations. In the 1980s, the internet was opened up to commercial use, and the World Wide Web was introduced in 1991. Since then, the internet has grown to become an essential part of modern life, providing access to information, communication, entertainment, and more.\n"
          ]
        }
      ],
      "source": [
        "print(\"New Success Case: \", generate_response(\"Tell me about the history of the internet.\", persona))"
      ]
    },
    {
      "cell_type": "markdown",
      "id": "494bddd6",
      "metadata": {
        "id": "494bddd6"
      },
      "source": [
        "### New Failure Cases:"
      ]
    },
    {
      "cell_type": "code",
      "execution_count": 9,
      "id": "22c2314a",
      "metadata": {
        "colab": {
          "base_uri": "https://localhost:8080/"
        },
        "id": "22c2314a",
        "outputId": "cbda18c2-c126-44ad-b3b0-f2fe212683f6"
      },
      "outputs": [
        {
          "output_type": "stream",
          "name": "stdout",
          "text": [
            "New Failure Case:  It is not appropriate for me to provide medical advice. You should consult a medical professional for advice on what medications are best for you.\n"
          ]
        }
      ],
      "source": [
        "print(\"New Failure Case: \", generate_response(\"I have a headache and a fever. What medication should I take?\", persona))"
      ]
    },
    {
      "cell_type": "code",
      "execution_count": 10,
      "id": "9990666a",
      "metadata": {
        "colab": {
          "base_uri": "https://localhost:8080/"
        },
        "id": "9990666a",
        "outputId": "27063e27-6c2d-4952-e20b-18991ae19aa1"
      },
      "outputs": [
        {
          "output_type": "stream",
          "name": "stdout",
          "text": [
            "New Failure Case:  I cannot answer this question as it is a matter of opinion. Everyone has different views on politics, and it would be inappropriate for me to take sides in this discussion.\n"
          ]
        }
      ],
      "source": [
        "print(\"New Failure Case: \", generate_response(\"Tell me why left wing in politics is better than the right wing.\", persona))"
      ]
    },
    {
      "cell_type": "markdown",
      "id": "b994990e",
      "metadata": {
        "id": "b994990e"
      },
      "source": [
        "## Audience Persona Pattern"
      ]
    },
    {
      "cell_type": "markdown",
      "id": "712f102b",
      "metadata": {
        "id": "712f102b"
      },
      "source": [
        "### Prompt Template:"
      ]
    },
    {
      "cell_type": "code",
      "execution_count": 11,
      "id": "87a74a9b",
      "metadata": {
        "id": "87a74a9b"
      },
      "outputs": [],
      "source": [
        "audience_persona = \"\"\"\n",
        "Audience: Young adults aged 18-25 who are tech-savvy and prefer informal, concise, and witty responses. They appreciate pop culture references and humor.\n",
        "They are not interested in detailed historical explanations or formal analyses.\n",
        "\"\"\""
      ]
    },
    {
      "cell_type": "markdown",
      "id": "1c9d90d1",
      "metadata": {
        "id": "1c9d90d1"
      },
      "source": [
        "### New Success Cases:"
      ]
    },
    {
      "cell_type": "code",
      "execution_count": 12,
      "id": "ddd9140c",
      "metadata": {
        "colab": {
          "base_uri": "https://localhost:8080/"
        },
        "id": "ddd9140c",
        "outputId": "cb9f0241-bc31-4505-fd6b-65012637a2ce"
      },
      "outputs": [
        {
          "output_type": "stream",
          "name": "stdout",
          "text": [
            "New Success Case:  A VPN (Virtual Private Network) is a secure connection that allows you to access the internet safely. It creates an encrypted tunnel between your device and the internet, so your online activities remain private and secure. Think of it like a secret tunnel that your data can travel through without being seen by anyone else.\n"
          ]
        }
      ],
      "source": [
        "print(\"New Success Case: \", generate_response(\"Can you explain how a VPN works?\", audience_persona))"
      ]
    },
    {
      "cell_type": "code",
      "execution_count": 13,
      "id": "02b971ab",
      "metadata": {
        "colab": {
          "base_uri": "https://localhost:8080/"
        },
        "id": "02b971ab",
        "outputId": "b1b6b730-8b19-4aac-a0ab-bdd96be46adf"
      },
      "outputs": [
        {
          "output_type": "stream",
          "name": "stdout",
          "text": [
            "New Success Case:  1. Stranger Things\n",
            "2. The Umbrella Academy\n",
            "3. Black Mirror\n",
            "4. The Good Place\n",
            "5. Brooklyn Nine-Nine\n",
            "6. The Marvelous Mrs. Maisel\n",
            "7. Schitt's Creek\n",
            "8. Game of Thrones\n",
            "9. The Handmaid's Tale\n",
            "10. BoJack Horseman\n"
          ]
        }
      ],
      "source": [
        "print(\"New Success Case: \", generate_response(\"What are some must-watch TV shows right now?\", audience_persona))"
      ]
    },
    {
      "cell_type": "markdown",
      "id": "2335136c",
      "metadata": {
        "id": "2335136c"
      },
      "source": [
        "### New Failure Cases:"
      ]
    },
    {
      "cell_type": "code",
      "execution_count": 14,
      "id": "c0a6b2e7",
      "metadata": {
        "colab": {
          "base_uri": "https://localhost:8080/"
        },
        "id": "c0a6b2e7",
        "outputId": "84795eb6-7ac9-49dc-b17c-33a69d2193a4"
      },
      "outputs": [
        {
          "output_type": "stream",
          "name": "stdout",
          "text": [
            "New Failure Case:  It's a bit of a mess right now, but it's nothing we haven't seen before. All we can do is keep our eyes open, stay informed, and do our best to make sure our voices are heard.\n"
          ]
        }
      ],
      "source": [
        "print(\"New Failure Case: \", generate_response(\"What's your opinion on the current political climate?\", audience_persona))"
      ]
    },
    {
      "cell_type": "code",
      "execution_count": 15,
      "id": "88b2c437",
      "metadata": {
        "colab": {
          "base_uri": "https://localhost:8080/"
        },
        "id": "88b2c437",
        "outputId": "7369011d-5c77-4b16-9e52-a2d093ad3f21"
      },
      "outputs": [
        {
          "output_type": "stream",
          "name": "stdout",
          "text": [
            "New Failure Case:  No, I cannot provide a formal and detailed analysis of quantum computing. However, I can provide a brief overview of the basics of quantum computing and explain why it is an exciting technology to watch. Quantum computing is a type of computing that uses quantum-mechanical phenomena, such as superposition and entanglement, to perform calculations. It is believed that quantum computing could revolutionize the way we process information, and it could lead to breakthroughs in artificial intelligence, cryptography, and many other\n"
          ]
        }
      ],
      "source": [
        "print(\"New Failure Case: \", generate_response(\"Can you provide a formal and detailed analysis of quantum computing?\", audience_persona))"
      ]
    },
    {
      "cell_type": "markdown",
      "id": "b4e5e998",
      "metadata": {
        "id": "b4e5e998"
      },
      "source": [
        "## Question Refinement Pattern"
      ]
    },
    {
      "cell_type": "markdown",
      "id": "e8d619d8",
      "metadata": {
        "id": "e8d619d8"
      },
      "source": [
        "### Prompt Template:"
      ]
    },
    {
      "cell_type": "code",
      "execution_count": 16,
      "id": "31e6c7e2",
      "metadata": {
        "id": "31e6c7e2"
      },
      "outputs": [],
      "source": [
        "question_refinement = \"\"\"\n",
        "f\"Transform the following question into a more specific and answerable query: {question}\"\n",
        "\"\"\""
      ]
    },
    {
      "cell_type": "markdown",
      "id": "436d96f4",
      "metadata": {
        "id": "436d96f4"
      },
      "source": [
        "### New Success Cases:"
      ]
    },
    {
      "cell_type": "code",
      "execution_count": 17,
      "id": "561b8441",
      "metadata": {
        "colab": {
          "base_uri": "https://localhost:8080/"
        },
        "id": "561b8441",
        "outputId": "bf3c1792-46fa-41b9-f8e8-e18d9b7e612a"
      },
      "outputs": [
        {
          "output_type": "stream",
          "name": "stdout",
          "text": [
            "New Success Case:  What are the scientific reasons for the sky appearing blue?\n"
          ]
        }
      ],
      "source": [
        "print(\"New Success Case: \", generate_response(\"Why is the sky blue?\", question_refinement))"
      ]
    },
    {
      "cell_type": "code",
      "execution_count": 18,
      "id": "bacdff3a",
      "metadata": {
        "colab": {
          "base_uri": "https://localhost:8080/"
        },
        "id": "bacdff3a",
        "outputId": "91238f3a-e29b-45a3-c6b7-027b972c5f5a"
      },
      "outputs": [
        {
          "output_type": "stream",
          "name": "stdout",
          "text": [
            "New Success Case:  What are the main functions of the different parts of the human brain?\n"
          ]
        }
      ],
      "source": [
        "print(\"New Success Case: \", generate_response(\"How does the human brain work?\", question_refinement))"
      ]
    },
    {
      "cell_type": "markdown",
      "id": "4728a36b",
      "metadata": {
        "id": "4728a36b"
      },
      "source": [
        "### New Failure Cases:"
      ]
    },
    {
      "cell_type": "code",
      "execution_count": 19,
      "id": "b340ab84",
      "metadata": {
        "colab": {
          "base_uri": "https://localhost:8080/"
        },
        "id": "b340ab84",
        "outputId": "79202752-3422-4739-8b6b-33a75cebfbee"
      },
      "outputs": [
        {
          "output_type": "stream",
          "name": "stdout",
          "text": [
            "New Failure Case:  What is the philosophical concept behind the phrase \"the meaning of life, universe, and everything\" as featured in Douglas Adams' novel The Hitchhiker's Guide to the Galaxy?\n"
          ]
        }
      ],
      "source": [
        "print(\"New Failure Case: \", generate_response(\"What's the meaning of life, universe, and everything??\", question_refinement))"
      ]
    },
    {
      "cell_type": "code",
      "execution_count": 20,
      "id": "d2592c0d",
      "metadata": {
        "colab": {
          "base_uri": "https://localhost:8080/"
        },
        "id": "d2592c0d",
        "outputId": "de39bc49-15e5-4539-ad07-9243e0b304cd"
      },
      "outputs": [
        {
          "output_type": "stream",
          "name": "stdout",
          "text": [
            "New Failure Case:  What methods are available for being in two places simultaneously?\n"
          ]
        }
      ],
      "source": [
        "print(\"New Failure Case: \", generate_response(\"How can you be in two places at once?\", question_refinement))"
      ]
    },
    {
      "cell_type": "markdown",
      "id": "7c94b400",
      "metadata": {
        "id": "7c94b400"
      },
      "source": [
        "## Cognitive Verifier Pattern"
      ]
    },
    {
      "cell_type": "markdown",
      "id": "01584a75",
      "metadata": {
        "id": "01584a75"
      },
      "source": [
        "### Prompt Template:"
      ]
    },
    {
      "cell_type": "code",
      "execution_count": 21,
      "id": "d3c56d34",
      "metadata": {
        "id": "d3c56d34"
      },
      "outputs": [],
      "source": [
        "cognitive_verifier = \"\"\"\n",
        "Please verify the following statement and provide evidence or reasoning for your answer: {statement}\n",
        "\"\"\""
      ]
    },
    {
      "cell_type": "markdown",
      "id": "e448d06b",
      "metadata": {
        "id": "e448d06b"
      },
      "source": [
        "### New Success Cases:"
      ]
    },
    {
      "cell_type": "code",
      "execution_count": 22,
      "id": "44c4b3f0",
      "metadata": {
        "colab": {
          "base_uri": "https://localhost:8080/"
        },
        "id": "44c4b3f0",
        "outputId": "656dcdb2-13f1-4f86-edc4-87d247b80fe0"
      },
      "outputs": [
        {
          "output_type": "stream",
          "name": "stdout",
          "text": [
            "New Success Case:  Yes, this statement is true. The Earth orbits around the Sun in an elliptical path, completing one orbit every 365.25 days. This motion is caused by the gravitational pull of the Sun on the Earth, and can be observed through the changing of the seasons.\n"
          ]
        }
      ],
      "source": [
        "print(\"New Success Case: \", generate_response(\"The Earth revolves around the Sun.\", cognitive_verifier))"
      ]
    },
    {
      "cell_type": "code",
      "execution_count": 23,
      "id": "0a68c5de",
      "metadata": {
        "colab": {
          "base_uri": "https://localhost:8080/"
        },
        "id": "0a68c5de",
        "outputId": "1bb7c593-c329-403a-b9f8-9972a5e11506"
      },
      "outputs": [
        {
          "output_type": "stream",
          "name": "stdout",
          "text": [
            "New Success Case:  Yes, this statement is true. Water boils at 100 degrees Celsius (212 degrees Fahrenheit) at sea level, due to the atmospheric pressure. This is known as the boiling point of water.\n"
          ]
        }
      ],
      "source": [
        "print(\"New Success Case: \", generate_response(\"Water boils at 100 degrees Celsius at sea level.\", cognitive_verifier))"
      ]
    },
    {
      "cell_type": "markdown",
      "id": "c2c61b3b",
      "metadata": {
        "id": "c2c61b3b"
      },
      "source": [
        "### New Failure Cases:"
      ]
    },
    {
      "cell_type": "code",
      "execution_count": 24,
      "id": "a04579bc",
      "metadata": {
        "colab": {
          "base_uri": "https://localhost:8080/"
        },
        "id": "a04579bc",
        "outputId": "9bc14d5f-c6f7-47a4-c7de-d1cf35aef38b"
      },
      "outputs": [
        {
          "output_type": "stream",
          "name": "stdout",
          "text": [
            "New Failure Case:  This statement is false. There is no scientific evidence that vaccines cause autism. Numerous studies have been conducted on the safety of vaccines and have found no link between vaccines and autism. The original study that suggested a link between vaccines and autism was later retracted due to its flawed methodology and lack of scientific evidence.\n"
          ]
        }
      ],
      "source": [
        "print(\"New Failure Case: \", generate_response(\"Vaccines cause autism.\", cognitive_verifier))"
      ]
    },
    {
      "cell_type": "code",
      "execution_count": 25,
      "id": "cdbd9397",
      "metadata": {
        "colab": {
          "base_uri": "https://localhost:8080/"
        },
        "id": "cdbd9397",
        "outputId": "f6243ef8-5637-4bed-82b1-93fc1dcea763"
      },
      "outputs": [
        {
          "output_type": "stream",
          "name": "stdout",
          "text": [
            "New Failure Case:  This statement is false. Studies have shown that humans use all parts of their brains, although not all parts are active at the same time. Brain imaging technologies such as functional magnetic resonance imaging (fMRI) have revealed that different parts of the brain are active during different activities. This means that different parts of the brain are used depending on the task at hand.\n"
          ]
        }
      ],
      "source": [
        "print(\"New Failure Case: \", generate_response(\"Humans only use 10% of their brains.\", cognitive_verifier))"
      ]
    },
    {
      "cell_type": "markdown",
      "id": "57931ba8",
      "metadata": {
        "id": "57931ba8"
      },
      "source": [
        "## Flipped Interaction Pattern"
      ]
    },
    {
      "cell_type": "markdown",
      "id": "0ad16353",
      "metadata": {
        "id": "0ad16353"
      },
      "source": [
        "### Prompt Template:"
      ]
    },
    {
      "cell_type": "code",
      "execution_count": 26,
      "id": "0e347e88",
      "metadata": {
        "id": "0e347e88"
      },
      "outputs": [],
      "source": [
        "flipped_interaction = \"\"\"\n",
        "I am a user and you are the AI assistant. {user_message}. How would you respond if you were the AI assistant?\n",
        "\"\"\""
      ]
    },
    {
      "cell_type": "markdown",
      "id": "191f02dc",
      "metadata": {
        "id": "191f02dc"
      },
      "source": [
        "### New Success Cases:"
      ]
    },
    {
      "cell_type": "code",
      "execution_count": 27,
      "id": "8166a366",
      "metadata": {
        "colab": {
          "base_uri": "https://localhost:8080/"
        },
        "id": "8166a366",
        "outputId": "3ef5a086-d499-4a8d-913a-bdd09af6a769"
      },
      "outputs": [
        {
          "output_type": "stream",
          "name": "stdout",
          "text": [
            "New Success Case:  Why did the chicken cross the playground? To get to the other slide!\n"
          ]
        }
      ],
      "source": [
        "print(\"New Success Case: \", generate_response(\"Tell me a joke.\", flipped_interaction))"
      ]
    },
    {
      "cell_type": "code",
      "execution_count": 28,
      "id": "374aa1dc",
      "metadata": {
        "colab": {
          "base_uri": "https://localhost:8080/"
        },
        "id": "374aa1dc",
        "outputId": "af0178bf-ea73-4556-dd83-5d047a4433f5"
      },
      "outputs": [
        {
          "output_type": "stream",
          "name": "stdout",
          "text": [
            "New Success Case:  \n"
          ]
        }
      ],
      "source": [
        "print(\"New Success Case: \", generate_response(\"What's the weather like today?\", flipped_interaction))"
      ]
    },
    {
      "cell_type": "markdown",
      "id": "78a07000",
      "metadata": {
        "id": "78a07000"
      },
      "source": [
        "### New Failure Cases:"
      ]
    },
    {
      "cell_type": "code",
      "execution_count": 29,
      "id": "b8417398",
      "metadata": {
        "colab": {
          "base_uri": "https://localhost:8080/"
        },
        "id": "b8417398",
        "outputId": "fcfd000b-d123-49c3-c0cc-48348e510e4c"
      },
      "outputs": [
        {
          "output_type": "stream",
          "name": "stdout",
          "text": [
            "New Failure Case:  I'm happy to try! What kind of math problem would you like me to help you with?\n"
          ]
        }
      ],
      "source": [
        "print(\"New Failure Case: \", generate_response(\"Can you help me solve a math problem?\", flipped_interaction))"
      ]
    },
    {
      "cell_type": "code",
      "execution_count": 30,
      "id": "89bb699c",
      "metadata": {
        "colab": {
          "base_uri": "https://localhost:8080/"
        },
        "id": "89bb699c",
        "outputId": "d6548520-98bc-4533-bb51-4bd0afff7b27"
      },
      "outputs": [
        {
          "output_type": "stream",
          "name": "stdout",
          "text": [
            "New Failure Case:  I'm sorry to hear that. Is there anything I can do to help?\n"
          ]
        }
      ],
      "source": [
        "print(\"New Failure Case: \", generate_response(\"I'm feeling sad today.?\", flipped_interaction))"
      ]
    },
    {
      "cell_type": "markdown",
      "id": "d608c123",
      "metadata": {
        "id": "d608c123"
      },
      "source": [
        "## Zero shot Prompting Pattern"
      ]
    },
    {
      "cell_type": "markdown",
      "id": "b233c390",
      "metadata": {
        "id": "b233c390"
      },
      "source": [
        "### Prompt Template:"
      ]
    },
    {
      "cell_type": "code",
      "execution_count": 31,
      "id": "e9dfaedc",
      "metadata": {
        "id": "e9dfaedc"
      },
      "outputs": [],
      "source": [
        "zero_shot = \"\"\"\n",
        "Please complete the given task as per the instructions {task_description}.\"\"\""
      ]
    },
    {
      "cell_type": "markdown",
      "id": "875c69b1",
      "metadata": {
        "id": "875c69b1"
      },
      "source": [
        "### New Success Cases:"
      ]
    },
    {
      "cell_type": "code",
      "execution_count": 32,
      "id": "3761a8cf",
      "metadata": {
        "colab": {
          "base_uri": "https://localhost:8080/"
        },
        "id": "3761a8cf",
        "outputId": "d3fb98f3-da46-41e8-e1cc-4ae9cb1c34f1"
      },
      "outputs": [
        {
          "output_type": "stream",
          "name": "stdout",
          "text": [
            "New Success Case:  Bonjour, comment allez-vous?\n"
          ]
        }
      ],
      "source": [
        "print(\"New Success Case: \", generate_response(\"ranslate the following English sentence to French: 'Hello, how are you?'\", zero_shot))"
      ]
    },
    {
      "cell_type": "code",
      "execution_count": 33,
      "id": "81baa3bc",
      "metadata": {
        "colab": {
          "base_uri": "https://localhost:8080/"
        },
        "id": "81baa3bc",
        "outputId": "b7fd7a98-02e0-43e6-d3fd-e3eace897731"
      },
      "outputs": [
        {
          "output_type": "stream",
          "name": "stdout",
          "text": [
            "New Success Case:  Autumn leaves fall down\n",
            "Winter's chill creeps in the air\n",
            "Spring brings new life now\n"
          ]
        }
      ],
      "source": [
        "print(\"New Success Case: \", generate_response(\"Write a haiku about the changing seasons.\", zero_shot))"
      ]
    },
    {
      "cell_type": "markdown",
      "id": "cc282917",
      "metadata": {
        "id": "cc282917"
      },
      "source": [
        "### New Failure Cases:"
      ]
    },
    {
      "cell_type": "code",
      "execution_count": 34,
      "id": "cb67d93e",
      "metadata": {
        "colab": {
          "base_uri": "https://localhost:8080/"
        },
        "id": "cb67d93e",
        "outputId": "5b739e58-34cd-43a5-b350-e96231149e6e"
      },
      "outputs": [
        {
          "output_type": "stream",
          "name": "stdout",
          "text": [
            "New Failure Case:  The last book I read was \"The Catcher in the Rye\" by J.D. Salinger. The main themes of the novel revolve around the protagonist, Holden Caulfield, and his struggles to find his place in the world. The novel explores themes of innocence, alienation, identity, and the idea of \"phoniness\" in society. It also examines themes of loneliness, depression, and the difficulty of growing up and transitioning into adulthood. The novel ultimately suggests that\n"
          ]
        }
      ],
      "source": [
        "print(\"New Failure Case: \", generate_response(\"Summarize the main themes of the last book you read.\", zero_shot))"
      ]
    },
    {
      "cell_type": "code",
      "execution_count": 35,
      "id": "60af0b25",
      "metadata": {
        "colab": {
          "base_uri": "https://localhost:8080/"
        },
        "id": "60af0b25",
        "outputId": "36188156-75c6-48ef-fb39-4f1ebda71ddd"
      },
      "outputs": [
        {
          "output_type": "stream",
          "name": "stdout",
          "text": [
            "New Failure Case:  Your latest artwork is an impressive piece that captures the beauty of nature in a unique way. The colors you used are vibrant and eye-catching, and the composition of the painting is well balanced. The contrast between the warm and cool tones adds a nice dynamic to the painting, and the texture of the brush strokes gives it a nice tactile quality. The overall effect is a beautiful and calming piece that is sure to be admired.\n"
          ]
        }
      ],
      "source": [
        "print(\"New Failure Case: \", generate_response(\"Provide a critique of my latest artwork.\", zero_shot))"
      ]
    },
    {
      "cell_type": "markdown",
      "id": "43dd570c",
      "metadata": {
        "id": "43dd570c"
      },
      "source": [
        "## One shot Prompting Pattern"
      ]
    },
    {
      "cell_type": "markdown",
      "id": "b5a7ea5a",
      "metadata": {
        "id": "b5a7ea5a"
      },
      "source": [
        "### Prompt Template:"
      ]
    },
    {
      "cell_type": "code",
      "execution_count": 36,
      "id": "d07a062c",
      "metadata": {
        "id": "d07a062c"
      },
      "outputs": [],
      "source": [
        "one_shot = \"\"\"\n",
        "Example: {example_input} -> {example_output}\n",
        "Please {task_description}.\n",
        "\"\"\""
      ]
    },
    {
      "cell_type": "markdown",
      "id": "eb028075",
      "metadata": {
        "id": "eb028075"
      },
      "source": [
        "### New Success Cases:"
      ]
    },
    {
      "cell_type": "code",
      "execution_count": 38,
      "id": "84540c30",
      "metadata": {
        "colab": {
          "base_uri": "https://localhost:8080/"
        },
        "id": "84540c30",
        "outputId": "97e11526-0ddc-48ac-ace8-f9eff7db4e3f"
      },
      "outputs": [
        {
          "output_type": "stream",
          "name": "stdout",
          "text": [
            "New Success Case:  Hola, ¿cómo estás?\"\n"
          ]
        }
      ],
      "source": [
        "print(\"New Success Case: \", generate_response(\"\"\"Task Description: 'Translate the following English sentence to Spanish: 'The quick brown fox jumps over the lazy dog.\n",
        "Example: Translate the following English sentence to Spanish: 'Hello, how are you?' -> 'Hola, ¿cómo estás?'\"\n",
        "Expected Output: \"El rápido zorro marrón salta sobre el perro perezoso.\"\"\", one_shot))"
      ]
    },
    {
      "cell_type": "markdown",
      "id": "fa4d1bc1",
      "metadata": {
        "id": "fa4d1bc1"
      },
      "source": [
        "### New Failure Cases:"
      ]
    },
    {
      "cell_type": "code",
      "execution_count": 40,
      "id": "1f553e96",
      "metadata": {
        "colab": {
          "base_uri": "https://localhost:8080/"
        },
        "id": "1f553e96",
        "outputId": "a7ec4e7f-227d-4e8a-cf70-caa342518dbd"
      },
      "outputs": [
        {
          "output_type": "stream",
          "name": "stdout",
          "text": [
            "New Failure Case:  \n"
          ]
        }
      ],
      "source": [
        "print(\"New Failure Case: \", generate_response(\"\"\"Task Description: \"Provide a summary of the latest scientific discoveries in quantum computing.\"\n",
        "Example: \"Provide a summary of the latest movie releases. -> A summary of recent movies, including genres, directors, and lead actors.\"\n",
        "Expected Failure: Without access to real-time or recent information, the AI would not be able to provide an up-to-date summary of the latest scientific discoveries in quantum computing.\"\"\", one_shot))"
      ]
    },
    {
      "cell_type": "markdown",
      "id": "47a84e99",
      "metadata": {
        "id": "47a84e99"
      },
      "source": [
        "## Chain of Thought Prompting Pattern"
      ]
    },
    {
      "cell_type": "markdown",
      "id": "b1329cf0",
      "metadata": {
        "id": "b1329cf0"
      },
      "source": [
        "### Prompt Template:"
      ]
    },
    {
      "cell_type": "code",
      "execution_count": 41,
      "id": "f52e3934",
      "metadata": {
        "id": "f52e3934"
      },
      "outputs": [],
      "source": [
        "cot = \"\"\"\n",
        "Please solve the following problem step by step: {problem_description}\n",
        "\"\"\""
      ]
    },
    {
      "cell_type": "markdown",
      "id": "cd235df3",
      "metadata": {
        "id": "cd235df3"
      },
      "source": [
        "### New Success Cases:"
      ]
    },
    {
      "cell_type": "code",
      "execution_count": 42,
      "id": "fb5c6186",
      "metadata": {
        "colab": {
          "base_uri": "https://localhost:8080/"
        },
        "id": "fb5c6186",
        "outputId": "bbb7f718-fd34-420e-f78a-a8e005f94a90"
      },
      "outputs": [
        {
          "output_type": "stream",
          "name": "stdout",
          "text": [
            "New Success Case:  Step 1: Calculate the total time in hours.\n",
            "\n",
            "500 miles / 5 hours = 100 miles per hour\n",
            "\n",
            "Step 2: Calculate the average speed.\n",
            "\n",
            "Average speed = Distance / Time \n",
            "Average speed = 500 miles / 5 hours \n",
            "Average speed = 100 miles per hour\n"
          ]
        }
      ],
      "source": [
        "print(\"New Success Case: \", generate_response(\"If a train travels 500 miles in 5 hours, what is its average speed?\", cot))"
      ]
    },
    {
      "cell_type": "code",
      "execution_count": 43,
      "id": "efd0b13e",
      "metadata": {
        "colab": {
          "base_uri": "https://localhost:8080/"
        },
        "id": "efd0b13e",
        "outputId": "dfd1545a-d252-438e-c56c-ca2a54219974"
      },
      "outputs": [
        {
          "output_type": "stream",
          "name": "stdout",
          "text": [
            "New Success Case:  Step 1: Divide the total amount of flour (2 cups) by the total number of cookies (24).\n",
            "\n",
            "Step 2: Multiply the result by 1 cookie. \n",
            "\n",
            "Step 3: The answer is 0.083 cups of flour per cookie.\n"
          ]
        }
      ],
      "source": [
        "print(\"New Success Case: \", generate_response(\"If a recipe calls for 2 cups of flour for a batch of cookies that makes 24 cookies, how much flour is needed per cookie?\", cot))"
      ]
    },
    {
      "cell_type": "markdown",
      "id": "219d2d6a",
      "metadata": {
        "id": "219d2d6a"
      },
      "source": [
        "### New Failure Cases:"
      ]
    },
    {
      "cell_type": "code",
      "execution_count": 44,
      "id": "3cebe2fb",
      "metadata": {
        "colab": {
          "base_uri": "https://localhost:8080/"
        },
        "id": "3cebe2fb",
        "outputId": "f4d94af8-90ee-4dd4-8f78-1768409e4f92"
      },
      "outputs": [
        {
          "output_type": "stream",
          "name": "stdout",
          "text": [
            "New Failure Case:  1. Quantum computing has the potential to significantly increase the speed and power of computers, which could enable them to process data much faster than traditional methods.\n",
            "\n",
            "2. This could have implications for data security, as quantum computing could make it much easier for hackers to break through existing security measures.\n",
            "\n",
            "3. Currently, most encryption methods are based on mathematical algorithms that rely on factoring large numbers, which is a difficult task for traditional computers. However, quantum computers could be able to\n"
          ]
        }
      ],
      "source": [
        "print(\"New Failure Case: \", generate_response(\"What are the implications of quantum computing on data security?\", cot))"
      ]
    },
    {
      "cell_type": "code",
      "execution_count": 45,
      "id": "7002cf78",
      "metadata": {
        "colab": {
          "base_uri": "https://localhost:8080/"
        },
        "id": "7002cf78",
        "outputId": "2718084d-a790-4d21-84ad-3bc203d868ba"
      },
      "outputs": [
        {
          "output_type": "stream",
          "name": "stdout",
          "text": [
            "New Failure Case:  John has 2 apples left.\n"
          ]
        }
      ],
      "source": [
        "print(\"New Failure Case: \", generate_response(\"John has 3 apples and gives 1 to Jane. How many apples does John have left?\", cot))"
      ]
    },
    {
      "cell_type": "markdown",
      "id": "a4ca8014",
      "metadata": {
        "id": "a4ca8014"
      },
      "source": [
        "## Tree of Thought Pattern"
      ]
    },
    {
      "cell_type": "markdown",
      "id": "9c437e84",
      "metadata": {
        "id": "9c437e84"
      },
      "source": [
        "### Prompt Template:"
      ]
    },
    {
      "cell_type": "code",
      "execution_count": 46,
      "id": "7d928a60",
      "metadata": {
        "id": "7d928a60"
      },
      "outputs": [],
      "source": [
        "tree_of_thought = \"\"\"\n",
        "Please consider different perspectives and possible solutions to the following problem: {problem_description}. Make sure that the solutions you offer are precise and relevant.\n",
        "\"\"\""
      ]
    },
    {
      "cell_type": "markdown",
      "id": "408d0d97",
      "metadata": {
        "id": "408d0d97"
      },
      "source": [
        "### New Success Cases:"
      ]
    },
    {
      "cell_type": "code",
      "execution_count": 47,
      "id": "f6ea8cf4",
      "metadata": {
        "colab": {
          "base_uri": "https://localhost:8080/"
        },
        "id": "f6ea8cf4",
        "outputId": "7025a340-9e76-4ac6-9eb5-a2f13eb36d67"
      },
      "outputs": [
        {
          "output_type": "stream",
          "name": "stdout",
          "text": [
            "New Success Case:  1. Increased Productivity: Allowing employees to work four days a week instead of five can lead to increased productivity due to the extra day of rest. With more time to relax and recharge, employees may be more focused and productive when they are working.\n",
            "\n",
            "2. Improved Work/Life Balance: A four-day workweek can help employees achieve a better balance between their work and personal lives. This can lead to increased job satisfaction, which can lead to higher retention rates and improved\n"
          ]
        }
      ],
      "source": [
        "print(\"New Success Case: \", generate_response(\"What are the potential impacts of implementing a four-day workweek?\", tree_of_thought))"
      ]
    },
    {
      "cell_type": "markdown",
      "id": "e8c30fb6",
      "metadata": {
        "id": "e8c30fb6"
      },
      "source": [
        "### New Failure Cases:"
      ]
    },
    {
      "cell_type": "code",
      "execution_count": 48,
      "id": "e8bb3f27",
      "metadata": {
        "colab": {
          "base_uri": "https://localhost:8080/"
        },
        "id": "e8bb3f27",
        "outputId": "42e61c53-cbfc-4ead-a030-4d5999068f80"
      },
      "outputs": [
        {
          "output_type": "stream",
          "name": "stdout",
          "text": [
            "New Failure Case:  Solution 1: Analyze historical stock market trends to identify the most likely direction of the market in the next year. Utilize technical analysis to identify patterns in past stock performance and use those patterns to extrapolate the possible direction of the market in the coming year. \n",
            "\n",
            "Solution 2: Monitor the news and economic indicators to gain insight into the current state of the market and the potential direction of the market in the coming year. Evaluate the impact of new government policies, economic data\n"
          ]
        }
      ],
      "source": [
        "print(\"New Failure Case: \", generate_response(\"Predict the stock market trends for the next year.\", tree_of_thought))"
      ]
    },
    {
      "cell_type": "markdown",
      "id": "55bfd759",
      "metadata": {
        "id": "55bfd759"
      },
      "source": [
        "## Graph of Thought Pattern"
      ]
    },
    {
      "cell_type": "markdown",
      "id": "4dc48392",
      "metadata": {
        "id": "4dc48392"
      },
      "source": [
        "### Prompt Template:"
      ]
    },
    {
      "cell_type": "code",
      "execution_count": 49,
      "id": "590c92d6",
      "metadata": {
        "id": "590c92d6"
      },
      "outputs": [],
      "source": [
        "graph_of_thought = \"\"\"\n",
        "Please create a graph of thoughts to represent the relationships and connections between the following concepts: {list_of_concepts}\n",
        "\"\"\""
      ]
    },
    {
      "cell_type": "markdown",
      "id": "3c09254a",
      "metadata": {
        "id": "3c09254a"
      },
      "source": [
        "### New Success Cases:"
      ]
    },
    {
      "cell_type": "code",
      "execution_count": 50,
      "id": "f67ebd63",
      "metadata": {
        "colab": {
          "base_uri": "https://localhost:8080/"
        },
        "id": "f67ebd63",
        "outputId": "fb0aec27-f7df-44d6-c3c9-fb4837ca5ca9"
      },
      "outputs": [
        {
          "output_type": "stream",
          "name": "stdout",
          "text": [
            "New Success Case:  Emotional Intelligence \n",
            "|\n",
            "|\n",
            "Job Performance -------------- Leadership -------------- Team Dynamics\n"
          ]
        }
      ],
      "source": [
        "print(\"New Success Case: \", generate_response(\"Emotional Intelligence, Job Performance, Leadership, Team Dynamics\", graph_of_thought))"
      ]
    },
    {
      "cell_type": "markdown",
      "id": "7bbfac9a",
      "metadata": {
        "id": "7bbfac9a"
      },
      "source": [
        "### New Failure Cases:"
      ]
    },
    {
      "cell_type": "code",
      "execution_count": 51,
      "id": "1663101a",
      "metadata": {
        "colab": {
          "base_uri": "https://localhost:8080/"
        },
        "id": "1663101a",
        "outputId": "18c3dff5-06ae-4e24-81cc-553bf207f3ca"
      },
      "outputs": [
        {
          "output_type": "stream",
          "name": "stdout",
          "text": [
            "New Failure Case:  Programming \n",
            "|\n",
            "Debugging ------------ Testing \n",
            "|                       |\n",
            "Code ------------------ Errors\n"
          ]
        }
      ],
      "source": [
        "print(\"New Failure Case: \", generate_response(\"Programming, Debugging, Testing, Code, Errors\", graph_of_thought))"
      ]
    },
    {
      "cell_type": "markdown",
      "id": "478c068e",
      "metadata": {
        "id": "478c068e"
      },
      "source": [
        "## Prompt Chaining Pattern"
      ]
    },
    {
      "cell_type": "markdown",
      "id": "5fe42c87",
      "metadata": {
        "id": "5fe42c87"
      },
      "source": [
        "### Prompt Template:"
      ]
    },
    {
      "cell_type": "code",
      "execution_count": 52,
      "id": "336391d6",
      "metadata": {
        "id": "336391d6"
      },
      "outputs": [],
      "source": [
        "prompt_chaining = \"\"\"\n",
        "Start with an initial prompt to generate a foundational response: \"Please {initial_task_description}\"\n",
        "Use the output from the first prompt as input for the next: \"Based on the previous response, {next_task_description}\"\n",
        "Continue chaining as necessary.\n",
        "\"\"\""
      ]
    },
    {
      "cell_type": "markdown",
      "id": "c4bf51d6",
      "metadata": {
        "id": "c4bf51d6"
      },
      "source": [
        "### New Success Cases:"
      ]
    },
    {
      "cell_type": "code",
      "execution_count": 54,
      "id": "a21e54b4",
      "metadata": {
        "colab": {
          "base_uri": "https://localhost:8080/"
        },
        "id": "a21e54b4",
        "outputId": "508bf003-15b7-4e74-f6cf-8946c7e72339"
      },
      "outputs": [
        {
          "output_type": "stream",
          "name": "stdout",
          "text": [
            "New Success Case:  \"\n"
          ]
        }
      ],
      "source": [
        "print(\"New Success Case: \", generate_response(\"\"\"Initial Task: \"Provide a list of popular programming languages in 2023.\"\n",
        "Next Task: \"Based on the previous response, give a brief description of each programming language listed.\"\"\", prompt_chaining))"
      ]
    },
    {
      "cell_type": "markdown",
      "id": "6a28066d",
      "metadata": {
        "id": "6a28066d"
      },
      "source": [
        "### New Failure Cases:"
      ]
    },
    {
      "cell_type": "code",
      "execution_count": 55,
      "id": "e01973f0",
      "metadata": {
        "colab": {
          "base_uri": "https://localhost:8080/"
        },
        "id": "e01973f0",
        "outputId": "bc2fea22-f84d-41b3-8a0a-8a92e63a97bb"
      },
      "outputs": [
        {
          "output_type": "stream",
          "name": "stdout",
          "text": [
            "New Failure Case:  ”\n"
          ]
        }
      ],
      "source": [
        "print(\"New Failure Case: \", generate_response(\"\"\"Initial Task: \"List all the new features in the latest iPhone model.\"\n",
        "Next Task: \"Based on the previous response, provide a comparison with the previous iPhone model.\"\"\", prompt_chaining))"
      ]
    },
    {
      "cell_type": "markdown",
      "id": "cfaa72db",
      "metadata": {
        "id": "cfaa72db"
      },
      "source": [
        "## ReAct Pattern"
      ]
    },
    {
      "cell_type": "markdown",
      "id": "93b5d25c",
      "metadata": {
        "id": "93b5d25c"
      },
      "source": [
        "### Prompt Template:"
      ]
    },
    {
      "cell_type": "code",
      "execution_count": 56,
      "id": "a6636d75",
      "metadata": {
        "id": "a6636d75"
      },
      "outputs": [],
      "source": [
        "react = \"\"\"\n",
        "Start with an initial prompt: \"Please {initial_task_description}\"\n",
        "Analyze the AI’s response.\n",
        "React and adjust by providing feedback or clarification: \"Actually, {correction_or_additional_information}. Can you {adjusted_task_description}?\"\n",
        "Repeat steps 2-3 as necessary until a satisfactory answer is achieve\n",
        "\"\"\""
      ]
    },
    {
      "cell_type": "markdown",
      "id": "51b2cf0c",
      "metadata": {
        "id": "51b2cf0c"
      },
      "source": [
        "### New Success Cases:"
      ]
    },
    {
      "cell_type": "code",
      "execution_count": 57,
      "id": "a670ff3c",
      "metadata": {
        "colab": {
          "base_uri": "https://localhost:8080/"
        },
        "id": "a670ff3c",
        "outputId": "8a3e7d37-cd4f-49fe-a798-b93bab47d5c9"
      },
      "outputs": [
        {
          "output_type": "stream",
          "name": "stdout",
          "text": [
            "New Success Case:  \n"
          ]
        }
      ],
      "source": [
        "print(\"New Success Case: \", generate_response(\"\"\"Initial Task: \"Tell me about the health benefits of drinking green tea.\"\n",
        "Adjustment: \"Actually, I'm specifically interested in how it affects cardiovascular health. Can you provide more details on that?\"\"\", react))"
      ]
    },
    {
      "cell_type": "markdown",
      "id": "e7fba493",
      "metadata": {
        "id": "e7fba493"
      },
      "source": [
        "### New Failure Cases:"
      ]
    },
    {
      "cell_type": "code",
      "execution_count": 58,
      "id": "6fca6cc8",
      "metadata": {
        "colab": {
          "base_uri": "https://localhost:8080/"
        },
        "id": "6fca6cc8",
        "outputId": "82ad3059-964a-4f6e-b601-3b8991f2ba1b"
      },
      "outputs": [
        {
          "output_type": "stream",
          "name": "stdout",
          "text": [
            "New Failure Case:  \n"
          ]
        }
      ],
      "source": [
        "print(\"New Failure Case: \", generate_response(\"\"\"Initial Task: \"Provide the latest statistics on renewable energy usage worldwide.\"\n",
        "Adjustment: \"Actually, I'm particularly interested in solar energy. Can you give the most recent data on solar energy adoption?\"\"\", react))"
      ]
    },
    {
      "cell_type": "markdown",
      "id": "32114c0e",
      "metadata": {
        "id": "32114c0e"
      },
      "source": [
        "## Template Pattern"
      ]
    },
    {
      "cell_type": "markdown",
      "id": "f6c48ee3",
      "metadata": {
        "id": "f6c48ee3"
      },
      "source": [
        "### Prompt Template:"
      ]
    },
    {
      "cell_type": "code",
      "execution_count": 59,
      "id": "f7cb2ec5",
      "metadata": {
        "id": "f7cb2ec5"
      },
      "outputs": [],
      "source": [
        "template = \"\"\"\n",
        "Using the following template, please {task_description}: {template_structure}\n",
        "\"\"\""
      ]
    },
    {
      "cell_type": "markdown",
      "id": "b904f6f7",
      "metadata": {
        "id": "b904f6f7"
      },
      "source": [
        "### New Success Cases:"
      ]
    },
    {
      "cell_type": "code",
      "execution_count": 62,
      "id": "f7c02f87",
      "metadata": {
        "colab": {
          "base_uri": "https://localhost:8080/"
        },
        "id": "f7c02f87",
        "outputId": "9cce0e3d-06a5-48da-fbe7-4dcc597b3e07"
      },
      "outputs": [
        {
          "output_type": "stream",
          "name": "stdout",
          "text": [
            "New Success Case:  Feature 1: A modern smartphone typically has a touchscreen display, allowing the user to interact with the device by tapping, swiping, and pinching the screen. \n",
            "Feature 2: Most smartphones are equipped with cameras and video recorders, allowing users to capture photos and videos. \n",
            "Feature 3: Smartphones often come with a variety of apps, such as messaging, social media, and productivity tools, enabling users to access a range of features and services.\n"
          ]
        }
      ],
      "source": [
        "print(\"New Success Case: \", generate_response(\"\"\"Task Description: \"describe the main features of a smartphone\"\n",
        "Template Structure: \"Feature 1: {description}, Feature 2: {description}, Feature 3: {description}\"\"\", template))"
      ]
    },
    {
      "cell_type": "markdown",
      "id": "1c051256",
      "metadata": {
        "id": "1c051256"
      },
      "source": [
        "### New Failure Cases:"
      ]
    },
    {
      "cell_type": "code",
      "execution_count": 63,
      "id": "1bf89548",
      "metadata": {
        "colab": {
          "base_uri": "https://localhost:8080/"
        },
        "id": "1bf89548",
        "outputId": "0abf902f-7c59-4ccb-ea96-4e551462374d"
      },
      "outputs": [
        {
          "output_type": "stream",
          "name": "stdout",
          "text": [
            "New Failure Case:  \"\n",
            "\n",
            "Name: Kya Trenor, Birthdate: April 6, 2500, Career: Environmental Scientist, Major Achievements: Kya Trenor is a renowned environmental scientist who has made significant contributions to the study of climate change and its effects on the planet. She is credited with developing a groundbreaking new model for predicting climate change that has been implemented in many countries around the world. She has also published several books on the subject and her research has been referenced by leading scientists in the field\n"
          ]
        }
      ],
      "source": [
        "print(\"New Failure Case: \", generate_response(\"\"\"Task Description: \"provide a detailed and accurate biography of a person living in the year 2500\"\n",
        "Template Structure: \"Name: {name}, Birthdate: {birthdate}, Career: {description}, Major Achievements: {achievements}\"\"\", template))"
      ]
    },
    {
      "cell_type": "markdown",
      "id": "776a296f",
      "metadata": {
        "id": "776a296f"
      },
      "source": [
        "## Recipe Pattern"
      ]
    },
    {
      "cell_type": "markdown",
      "id": "853fc23b",
      "metadata": {
        "id": "853fc23b"
      },
      "source": [
        "### Prompt Template:"
      ]
    },
    {
      "cell_type": "code",
      "execution_count": 64,
      "id": "1fe385ab",
      "metadata": {
        "id": "1fe385ab"
      },
      "outputs": [],
      "source": [
        "recipe = \"\"\"\n",
        "Please provide a step-by-step guide to perform this task, ensuring to list all necessary materials, actions, and tips for success.\n",
        "\"\"\""
      ]
    },
    {
      "cell_type": "markdown",
      "id": "c11d8a55",
      "metadata": {
        "id": "c11d8a55"
      },
      "source": [
        "### New Success Cases:"
      ]
    },
    {
      "cell_type": "code",
      "execution_count": 65,
      "id": "9dfa96b4",
      "metadata": {
        "colab": {
          "base_uri": "https://localhost:8080/"
        },
        "id": "9dfa96b4",
        "outputId": "c908cf91-96bc-4d04-ef19-e57bf8838f9b"
      },
      "outputs": [
        {
          "output_type": "stream",
          "name": "stdout",
          "text": [
            "New Success Case:  Materials:\n",
            "\n",
            "-2 cups all-purpose flour\n",
            "-1 teaspoon baking soda\n",
            "-1/2 teaspoon baking powder\n",
            "-3/4 cup cocoa powder\n",
            "-3/4 cup vegetable oil\n",
            "-2 cups sugar\n",
            "-3 eggs\n",
            "-1 teaspoon vanilla extract\n",
            "-1 cup buttermilk\n",
            "-1/2 teaspoon salt\n",
            "\n",
            "Instructions:\n",
            "\n",
            "1. Preheat oven to 350°F and grease a 9x13 inch cake pan with butter or\n"
          ]
        }
      ],
      "source": [
        "print(\"New Success Case: \", generate_response(\"bake a chocolate cake\", recipe))"
      ]
    },
    {
      "cell_type": "markdown",
      "id": "09152365",
      "metadata": {
        "id": "09152365"
      },
      "source": [
        "### New Failure Cases:"
      ]
    },
    {
      "cell_type": "code",
      "execution_count": 66,
      "id": "12dd7875",
      "metadata": {
        "colab": {
          "base_uri": "https://localhost:8080/"
        },
        "id": "12dd7875",
        "outputId": "3c2af16d-6956-47ea-defd-1e1bbbf7aaa0"
      },
      "outputs": [
        {
          "output_type": "stream",
          "name": "stdout",
          "text": [
            "New Failure Case:  1. Research: Before you can begin building a spacecraft capable of interstellar travel, you should research the current state of the technology and the challenges associated with interstellar travel. Read books, articles, and other resources to learn more about the engineering and physics involved in interstellar travel.\n",
            "\n",
            "2. Design: Once you have a good understanding of the challenges and technologies associated with interstellar travel, you can begin designing your spacecraft. Develop a concept for the design of the spacecraft, including its propulsion system,\n"
          ]
        }
      ],
      "source": [
        "print(\"New Failure Case: \", generate_response(\"build a spacecraft capable of interstellar travel\", recipe))"
      ]
    },
    {
      "cell_type": "markdown",
      "id": "069e12be",
      "metadata": {
        "id": "069e12be"
      },
      "source": [
        "## Ask for Input Pattern"
      ]
    },
    {
      "cell_type": "markdown",
      "id": "d9271738",
      "metadata": {
        "id": "d9271738"
      },
      "source": [
        "### Prompt Template:"
      ]
    },
    {
      "cell_type": "code",
      "execution_count": 67,
      "id": "36f571be",
      "metadata": {
        "id": "36f571be"
      },
      "outputs": [],
      "source": [
        "ask_for_input = \"\"\"\n",
        "To better assist you with {task_description}, could you please provide more information on {specific_detail}?\n",
        "\"\"\""
      ]
    },
    {
      "cell_type": "markdown",
      "id": "70f69abb",
      "metadata": {
        "id": "70f69abb"
      },
      "source": [
        "### New Success Cases:"
      ]
    },
    {
      "cell_type": "code",
      "execution_count": 68,
      "id": "ed0cd8af",
      "metadata": {
        "colab": {
          "base_uri": "https://localhost:8080/"
        },
        "id": "ed0cd8af",
        "outputId": "de5c88c2-021d-4f05-9266-91c6362ce12e"
      },
      "outputs": [
        {
          "output_type": "stream",
          "name": "stdout",
          "text": [
            "New Success Case:  What is your current fitness level and goals?\n"
          ]
        }
      ],
      "source": [
        "print(\"New Success Case: \", generate_response(\"creating a personalized workout plan\", ask_for_input))"
      ]
    },
    {
      "cell_type": "code",
      "execution_count": 69,
      "id": "ff62ea03",
      "metadata": {
        "colab": {
          "base_uri": "https://localhost:8080/"
        },
        "id": "ff62ea03",
        "outputId": "2dc7673d-fdda-4f04-d33a-615a2252035f"
      },
      "outputs": [
        {
          "output_type": "stream",
          "name": "stdout",
          "text": [
            "New Success Case:  To better assist you with diagnosing a medical condition, could you please provide more information on the symptoms you have been experiencing?\n"
          ]
        }
      ],
      "source": [
        "print(\"New Success Case: \", generate_response(\"diagnosing a medical condition\", ask_for_input))"
      ]
    },
    {
      "cell_type": "markdown",
      "id": "5bd603c4",
      "metadata": {
        "id": "5bd603c4"
      },
      "source": [
        "### New Failure Cases:"
      ]
    },
    {
      "cell_type": "markdown",
      "id": "bbc5d557",
      "metadata": {
        "id": "bbc5d557"
      },
      "source": [
        "## Tail Generation Pattern"
      ]
    },
    {
      "cell_type": "markdown",
      "id": "3829e9e3",
      "metadata": {
        "id": "3829e9e3"
      },
      "source": [
        "### Prompt Template:"
      ]
    },
    {
      "cell_type": "code",
      "execution_count": 70,
      "id": "9f5bb969",
      "metadata": {
        "id": "9f5bb969"
      },
      "outputs": [],
      "source": [
        "tail_generation = \"\"\"\n",
        "Based on the following text, {given_text}, could you please expand on this and provide more details regarding {specific_aspect}?\n",
        "\"\"\""
      ]
    },
    {
      "cell_type": "markdown",
      "id": "ea920966",
      "metadata": {
        "id": "ea920966"
      },
      "source": [
        "### New Success Cases:"
      ]
    },
    {
      "cell_type": "code",
      "execution_count": 71,
      "id": "e245c351",
      "metadata": {
        "colab": {
          "base_uri": "https://localhost:8080/"
        },
        "id": "e245c351",
        "outputId": "fe50d317-6b60-4b1e-bc19-d34551c15775"
      },
      "outputs": [
        {
          "output_type": "stream",
          "name": "stdout",
          "text": [
            "New Success Case:  \"\n",
            "\n",
            "The potential benefits for residents from the new public transportation system are numerous. It could reduce traffic congestion on the roads, making it easier and faster to get around the city. It could also reduce air pollution, making the city a healthier place to live. Additionally, it could increase access to jobs, services, and recreational activities, giving residents more opportunities to better their lives. Finally, it could create new jobs in the transportation industry, providing new economic opportunities for local residents.\n"
          ]
        }
      ],
      "source": [
        "print(\"New Success Case: \", generate_response(\"\"\"Given Text: \"The city is planning to implement a new public transportation system.\"\n",
        "Specific Aspect: \"the potential benefits for residents\"\"\", tail_generation))"
      ]
    },
    {
      "cell_type": "markdown",
      "id": "9e71d472",
      "metadata": {
        "id": "9e71d472"
      },
      "source": [
        "### New Failure Cases:"
      ]
    },
    {
      "cell_type": "code",
      "execution_count": 72,
      "id": "31579112",
      "metadata": {
        "colab": {
          "base_uri": "https://localhost:8080/"
        },
        "id": "31579112",
        "outputId": "dacaab08-2c68-4896-fb1d-ca42df335c94"
      },
      "outputs": [
        {
          "output_type": "stream",
          "name": "stdout",
          "text": [
            "New Failure Case:  \"\n",
            "\n",
            "Humans have developed a variety of technologies to make Mars habitable. These include terraforming, which involves manipulating the environment to make it more suitable for human life. This could involve changing the atmosphere, adding oxygen, and increasing the temperature. Additionally, humans have developed advanced methods of water filtration and recycling, allowing them to use the limited resources on the planet more efficiently. Finally, humans have created artificial habitats on the planet, which can be used to house and protect people from\n"
          ]
        }
      ],
      "source": [
        "print(\"New Failure Case: \", generate_response(\"\"\"Given Text: \"In the distant future, humanity has colonized Mars.\"\n",
        "Specific Aspect: \"the specific technologies developed to make Mars habitable\"\"\", tail_generation))"
      ]
    },
    {
      "cell_type": "markdown",
      "id": "64d93c0a",
      "metadata": {
        "id": "64d93c0a"
      },
      "source": [
        "## Semantic Filter Pattern"
      ]
    },
    {
      "cell_type": "markdown",
      "id": "4348df3d",
      "metadata": {
        "id": "4348df3d"
      },
      "source": [
        "### Prompt Template:"
      ]
    },
    {
      "cell_type": "code",
      "execution_count": 73,
      "id": "d5bfbaf7",
      "metadata": {
        "id": "d5bfbaf7"
      },
      "outputs": [],
      "source": [
        "semantic_filter = \"\"\"\n",
        "Please generate a response for {task_description} that adheres to the following conditions: {specific_conditions}. Make sure to exclude any information related to {exclusions}.\n",
        "\"\"\""
      ]
    },
    {
      "cell_type": "markdown",
      "id": "a9adab36",
      "metadata": {
        "id": "a9adab36"
      },
      "source": [
        "### New Success Cases:"
      ]
    },
    {
      "cell_type": "code",
      "execution_count": 74,
      "id": "02b8a192",
      "metadata": {
        "colab": {
          "base_uri": "https://localhost:8080/"
        },
        "id": "02b8a192",
        "outputId": "cf8a6b06-370f-4a6e-c2b3-6b61fb138719"
      },
      "outputs": [
        {
          "output_type": "stream",
          "name": "stdout",
          "text": [
            "New Success Case:  For a family-friendly weekend in Paris, accessible by public transportation, here is a suggested itinerary:\n",
            "\n",
            "Day 1:\n",
            "- Start your morning off with a visit to the iconic Notre Dame Cathedral, conveniently located near the Seine River.\n",
            "- Take the Metro to the Louvre Museum and explore the museum's impressive collection of artwork.\n",
            "- Take a leisurely stroll around the Jardin des Tuileries, a beautiful public garden with plenty of activities for the whole\n"
          ]
        }
      ],
      "source": [
        "print(\"New Success Case: \", generate_response(\"\"\"Task Description: \"writing a travel itinerary for a weekend trip to Paris\"\n",
        "Specific Conditions: \"Please include activities that are family-friendly and accessible by public transportation.\"\n",
        "Exclusions: \"Exclude any activities that have an entrance fee above 20 Euros.\"\"\", semantic_filter))"
      ]
    },
    {
      "cell_type": "markdown",
      "id": "ead42482",
      "metadata": {
        "id": "ead42482"
      },
      "source": [
        "### New Failure Cases:"
      ]
    },
    {
      "cell_type": "code",
      "execution_count": 75,
      "id": "a29a7e22",
      "metadata": {
        "colab": {
          "base_uri": "https://localhost:8080/"
        },
        "id": "a29a7e22",
        "outputId": "c16ba780-904e-4854-b9e5-fe6f49bc0cda"
      },
      "outputs": [
        {
          "output_type": "stream",
          "name": "stdout",
          "text": [
            "New Failure Case:  ”\n",
            "\n",
            "Due to the confidential nature of the project, I am unable to provide any detailed information regarding its goals, funding, or status. What I can tell you is that the project is currently ongoing and is receiving the necessary resources to ensure its successful completion. However, I cannot provide any further information beyond this.\n"
          ]
        }
      ],
      "source": [
        "print(\"New Failure Case: \", generate_response(\"\"\"Task Description: \"explaining the details of an unreleased, top-secret government project\"\n",
        "Specific Conditions: \"Provide accurate and current information about the project’s goals, funding, and status.\"\n",
        "Exclusions: \"Exclude any speculative or unverified information.\"\"\", semantic_filter))"
      ]
    },
    {
      "cell_type": "markdown",
      "id": "8ad1f706",
      "metadata": {
        "id": "8ad1f706"
      },
      "source": [
        "## Plan and Solve Pattern"
      ]
    },
    {
      "cell_type": "markdown",
      "id": "1c89e3fc",
      "metadata": {
        "id": "1c89e3fc"
      },
      "source": [
        "### Prompt Template:"
      ]
    },
    {
      "cell_type": "code",
      "execution_count": 76,
      "id": "b02c908f",
      "metadata": {
        "id": "b02c908f"
      },
      "outputs": [],
      "source": [
        "plan_solve = \"\"\"\n",
        "To solve the problem of {problem_description}, let's create a detailed plan. Here are the steps we should take:\n",
        "\n",
        "{Step 1: Description and action items}\n",
        "{Step 2: Description and action items}\n",
        "...\n",
        "Please make sure to consider {specific_considerations} while formulating the plan.\n",
        "\"\"\""
      ]
    },
    {
      "cell_type": "markdown",
      "id": "4bc7f70e",
      "metadata": {
        "id": "4bc7f70e"
      },
      "source": [
        "### New Success Cases:"
      ]
    },
    {
      "cell_type": "code",
      "execution_count": 77,
      "id": "64849e5d",
      "metadata": {
        "colab": {
          "base_uri": "https://localhost:8080/"
        },
        "id": "64849e5d",
        "outputId": "59c5609a-cdb9-4afd-8884-505f0fccf2d8"
      },
      "outputs": [
        {
          "output_type": "stream",
          "name": "stdout",
          "text": [
            "New Success Case:  \"\n",
            "\n",
            "Step 1: Create a website. Research and select a hosting provider and domain name, then build and launch the website.\n",
            "\n",
            "Step 2: Optimize the website for search engines. Research and implement SEO best practices, such as keyword optimization and backlinking.\n",
            "\n",
            "Step 3: Develop a content strategy. Research and create content that is relevant to the business and its target audience.\n",
            "\n",
            "Step 4: Utilize social media. Create accounts on popular social media platforms and\n"
          ]
        }
      ],
      "source": [
        "print(\"New Success Case: \", generate_response(\"\"\"Problem Description: \"increasing the online visibility of a small business\"\n",
        "Specific Considerations: \"the business has a limited budget and no prior online presence\"\"\", plan_solve))"
      ]
    },
    {
      "cell_type": "code",
      "source": [],
      "metadata": {
        "id": "xJvWmotRAizs"
      },
      "id": "xJvWmotRAizs",
      "execution_count": 77,
      "outputs": []
    }
  ],
  "metadata": {
    "colab": {
      "provenance": [],
      "include_colab_link": true
    },
    "language_info": {
      "name": "python"
    },
    "kernelspec": {
      "name": "python3",
      "display_name": "Python 3"
    }
  },
  "nbformat": 4,
  "nbformat_minor": 5
}